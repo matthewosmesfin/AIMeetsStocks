{
 "cells": [
  {
   "cell_type": "markdown",
   "metadata": {},
   "source": [
    "# Polars Practice"
   ]
  },
  {
   "cell_type": "markdown",
   "metadata": {},
   "source": [
    "Polars is a Python library used for handling big data. It is similar to Pandas and Spark. Compared to Pandas, Polars is signficantly faster."
   ]
  },
  {
   "cell_type": "code",
   "execution_count": 29,
   "metadata": {},
   "outputs": [],
   "source": [
    "import polars as pl\n",
    "import pandas as pd\n",
    "\n",
    "import pyarrow\n",
    "import numpy as np\n",
    "import matplotlib.pyplot as plt\n",
    "import seaborn as sns"
   ]
  },
  {
   "cell_type": "code",
   "execution_count": 30,
   "metadata": {},
   "outputs": [],
   "source": [
    "# We are going to use this file to practice\n",
    "\n",
    "df = pl.read_csv(\"practiceData/tips.csv\")\n",
    "\n",
    "df2 = pd.read_csv(\"practiceData/tips.csv\") #using for comparison"
   ]
  },
  {
   "cell_type": "markdown",
   "metadata": {},
   "source": [
    "## Basic Operations"
   ]
  },
  {
   "cell_type": "code",
   "execution_count": 3,
   "metadata": {},
   "outputs": [
    {
     "data": {
      "text/plain": [
       "(244, 7)"
      ]
     },
     "execution_count": 3,
     "metadata": {},
     "output_type": "execute_result"
    }
   ],
   "source": [
    "df.shape # same as pandas"
   ]
  },
  {
   "cell_type": "code",
   "execution_count": 4,
   "metadata": {},
   "outputs": [
    {
     "data": {
      "text/html": [
       "<div><style>\n",
       ".dataframe > thead > tr,\n",
       ".dataframe > tbody > tr {\n",
       "  text-align: right;\n",
       "  white-space: pre-wrap;\n",
       "}\n",
       "</style>\n",
       "<small>shape: (5, 7)</small><table border=\"1\" class=\"dataframe\"><thead><tr><th>total_bill</th><th>tip</th><th>sex</th><th>smoker</th><th>day</th><th>time</th><th>size</th></tr><tr><td>f64</td><td>f64</td><td>str</td><td>str</td><td>str</td><td>str</td><td>i64</td></tr></thead><tbody><tr><td>16.99</td><td>1.01</td><td>&quot;Female&quot;</td><td>&quot;No&quot;</td><td>&quot;Sun&quot;</td><td>&quot;Dinner&quot;</td><td>2</td></tr><tr><td>10.34</td><td>1.66</td><td>&quot;Male&quot;</td><td>&quot;No&quot;</td><td>&quot;Sun&quot;</td><td>&quot;Dinner&quot;</td><td>3</td></tr><tr><td>21.01</td><td>3.5</td><td>&quot;Male&quot;</td><td>&quot;No&quot;</td><td>&quot;Sun&quot;</td><td>&quot;Dinner&quot;</td><td>3</td></tr><tr><td>23.68</td><td>3.31</td><td>&quot;Male&quot;</td><td>&quot;No&quot;</td><td>&quot;Sun&quot;</td><td>&quot;Dinner&quot;</td><td>2</td></tr><tr><td>24.59</td><td>3.61</td><td>&quot;Female&quot;</td><td>&quot;No&quot;</td><td>&quot;Sun&quot;</td><td>&quot;Dinner&quot;</td><td>4</td></tr></tbody></table></div>"
      ],
      "text/plain": [
       "shape: (5, 7)\n",
       "┌────────────┬──────┬────────┬────────┬─────┬────────┬──────┐\n",
       "│ total_bill ┆ tip  ┆ sex    ┆ smoker ┆ day ┆ time   ┆ size │\n",
       "│ ---        ┆ ---  ┆ ---    ┆ ---    ┆ --- ┆ ---    ┆ ---  │\n",
       "│ f64        ┆ f64  ┆ str    ┆ str    ┆ str ┆ str    ┆ i64  │\n",
       "╞════════════╪══════╪════════╪════════╪═════╪════════╪══════╡\n",
       "│ 16.99      ┆ 1.01 ┆ Female ┆ No     ┆ Sun ┆ Dinner ┆ 2    │\n",
       "│ 10.34      ┆ 1.66 ┆ Male   ┆ No     ┆ Sun ┆ Dinner ┆ 3    │\n",
       "│ 21.01      ┆ 3.5  ┆ Male   ┆ No     ┆ Sun ┆ Dinner ┆ 3    │\n",
       "│ 23.68      ┆ 3.31 ┆ Male   ┆ No     ┆ Sun ┆ Dinner ┆ 2    │\n",
       "│ 24.59      ┆ 3.61 ┆ Female ┆ No     ┆ Sun ┆ Dinner ┆ 4    │\n",
       "└────────────┴──────┴────────┴────────┴─────┴────────┴──────┘"
      ]
     },
     "execution_count": 4,
     "metadata": {},
     "output_type": "execute_result"
    }
   ],
   "source": [
    "df.head() #the way it returns head() looks slightly diff from pandas (includes type, adds quote marks to strings, )"
   ]
  },
  {
   "cell_type": "code",
   "execution_count": null,
   "metadata": {},
   "outputs": [
    {
     "data": {
      "text/html": [
       "<div>\n",
       "<style scoped>\n",
       "    .dataframe tbody tr th:only-of-type {\n",
       "        vertical-align: middle;\n",
       "    }\n",
       "\n",
       "    .dataframe tbody tr th {\n",
       "        vertical-align: top;\n",
       "    }\n",
       "\n",
       "    .dataframe thead th {\n",
       "        text-align: right;\n",
       "    }\n",
       "</style>\n",
       "<table border=\"1\" class=\"dataframe\">\n",
       "  <thead>\n",
       "    <tr style=\"text-align: right;\">\n",
       "      <th></th>\n",
       "      <th>total_bill</th>\n",
       "      <th>tip</th>\n",
       "      <th>sex</th>\n",
       "      <th>smoker</th>\n",
       "      <th>day</th>\n",
       "      <th>time</th>\n",
       "      <th>size</th>\n",
       "    </tr>\n",
       "  </thead>\n",
       "  <tbody>\n",
       "    <tr>\n",
       "      <th>0</th>\n",
       "      <td>16.99</td>\n",
       "      <td>1.01</td>\n",
       "      <td>Female</td>\n",
       "      <td>No</td>\n",
       "      <td>Sun</td>\n",
       "      <td>Dinner</td>\n",
       "      <td>2</td>\n",
       "    </tr>\n",
       "    <tr>\n",
       "      <th>1</th>\n",
       "      <td>10.34</td>\n",
       "      <td>1.66</td>\n",
       "      <td>Male</td>\n",
       "      <td>No</td>\n",
       "      <td>Sun</td>\n",
       "      <td>Dinner</td>\n",
       "      <td>3</td>\n",
       "    </tr>\n",
       "    <tr>\n",
       "      <th>2</th>\n",
       "      <td>21.01</td>\n",
       "      <td>3.50</td>\n",
       "      <td>Male</td>\n",
       "      <td>No</td>\n",
       "      <td>Sun</td>\n",
       "      <td>Dinner</td>\n",
       "      <td>3</td>\n",
       "    </tr>\n",
       "    <tr>\n",
       "      <th>3</th>\n",
       "      <td>23.68</td>\n",
       "      <td>3.31</td>\n",
       "      <td>Male</td>\n",
       "      <td>No</td>\n",
       "      <td>Sun</td>\n",
       "      <td>Dinner</td>\n",
       "      <td>2</td>\n",
       "    </tr>\n",
       "    <tr>\n",
       "      <th>4</th>\n",
       "      <td>24.59</td>\n",
       "      <td>3.61</td>\n",
       "      <td>Female</td>\n",
       "      <td>No</td>\n",
       "      <td>Sun</td>\n",
       "      <td>Dinner</td>\n",
       "      <td>4</td>\n",
       "    </tr>\n",
       "  </tbody>\n",
       "</table>\n",
       "</div>"
      ],
      "text/plain": [
       "   total_bill   tip     sex smoker  day    time  size\n",
       "0       16.99  1.01  Female     No  Sun  Dinner     2\n",
       "1       10.34  1.66    Male     No  Sun  Dinner     3\n",
       "2       21.01  3.50    Male     No  Sun  Dinner     3\n",
       "3       23.68  3.31    Male     No  Sun  Dinner     2\n",
       "4       24.59  3.61  Female     No  Sun  Dinner     4"
      ]
     },
     "execution_count": 5,
     "metadata": {},
     "output_type": "execute_result"
    }
   ],
   "source": [
    "df2.head() #our pandas dataframe"
   ]
  },
  {
   "cell_type": "markdown",
   "metadata": {},
   "source": [
    "Worth noting that we can specifiy how many rows we want to return with the <b>head()</b> functon (just like Pandas).\n",
    "\n",
    "Additionally we can also just convert to pandas if we find the polars syntax distracting. Often, polars dataframes are converted to pandas because of how integrated pandas is with other libraries (we will showcase this later)"
   ]
  },
  {
   "cell_type": "code",
   "execution_count": 6,
   "metadata": {},
   "outputs": [
    {
     "data": {
      "text/html": [
       "<div><style>\n",
       ".dataframe > thead > tr,\n",
       ".dataframe > tbody > tr {\n",
       "  text-align: right;\n",
       "  white-space: pre-wrap;\n",
       "}\n",
       "</style>\n",
       "<small>shape: (10, 7)</small><table border=\"1\" class=\"dataframe\"><thead><tr><th>total_bill</th><th>tip</th><th>sex</th><th>smoker</th><th>day</th><th>time</th><th>size</th></tr><tr><td>f64</td><td>f64</td><td>str</td><td>str</td><td>str</td><td>str</td><td>i64</td></tr></thead><tbody><tr><td>16.99</td><td>1.01</td><td>&quot;Female&quot;</td><td>&quot;No&quot;</td><td>&quot;Sun&quot;</td><td>&quot;Dinner&quot;</td><td>2</td></tr><tr><td>10.34</td><td>1.66</td><td>&quot;Male&quot;</td><td>&quot;No&quot;</td><td>&quot;Sun&quot;</td><td>&quot;Dinner&quot;</td><td>3</td></tr><tr><td>21.01</td><td>3.5</td><td>&quot;Male&quot;</td><td>&quot;No&quot;</td><td>&quot;Sun&quot;</td><td>&quot;Dinner&quot;</td><td>3</td></tr><tr><td>23.68</td><td>3.31</td><td>&quot;Male&quot;</td><td>&quot;No&quot;</td><td>&quot;Sun&quot;</td><td>&quot;Dinner&quot;</td><td>2</td></tr><tr><td>24.59</td><td>3.61</td><td>&quot;Female&quot;</td><td>&quot;No&quot;</td><td>&quot;Sun&quot;</td><td>&quot;Dinner&quot;</td><td>4</td></tr><tr><td>25.29</td><td>4.71</td><td>&quot;Male&quot;</td><td>&quot;No&quot;</td><td>&quot;Sun&quot;</td><td>&quot;Dinner&quot;</td><td>4</td></tr><tr><td>8.77</td><td>2.0</td><td>&quot;Male&quot;</td><td>&quot;No&quot;</td><td>&quot;Sun&quot;</td><td>&quot;Dinner&quot;</td><td>2</td></tr><tr><td>26.88</td><td>3.12</td><td>&quot;Male&quot;</td><td>&quot;No&quot;</td><td>&quot;Sun&quot;</td><td>&quot;Dinner&quot;</td><td>4</td></tr><tr><td>15.04</td><td>1.96</td><td>&quot;Male&quot;</td><td>&quot;No&quot;</td><td>&quot;Sun&quot;</td><td>&quot;Dinner&quot;</td><td>2</td></tr><tr><td>14.78</td><td>3.23</td><td>&quot;Male&quot;</td><td>&quot;No&quot;</td><td>&quot;Sun&quot;</td><td>&quot;Dinner&quot;</td><td>2</td></tr></tbody></table></div>"
      ],
      "text/plain": [
       "shape: (10, 7)\n",
       "┌────────────┬──────┬────────┬────────┬─────┬────────┬──────┐\n",
       "│ total_bill ┆ tip  ┆ sex    ┆ smoker ┆ day ┆ time   ┆ size │\n",
       "│ ---        ┆ ---  ┆ ---    ┆ ---    ┆ --- ┆ ---    ┆ ---  │\n",
       "│ f64        ┆ f64  ┆ str    ┆ str    ┆ str ┆ str    ┆ i64  │\n",
       "╞════════════╪══════╪════════╪════════╪═════╪════════╪══════╡\n",
       "│ 16.99      ┆ 1.01 ┆ Female ┆ No     ┆ Sun ┆ Dinner ┆ 2    │\n",
       "│ 10.34      ┆ 1.66 ┆ Male   ┆ No     ┆ Sun ┆ Dinner ┆ 3    │\n",
       "│ 21.01      ┆ 3.5  ┆ Male   ┆ No     ┆ Sun ┆ Dinner ┆ 3    │\n",
       "│ 23.68      ┆ 3.31 ┆ Male   ┆ No     ┆ Sun ┆ Dinner ┆ 2    │\n",
       "│ 24.59      ┆ 3.61 ┆ Female ┆ No     ┆ Sun ┆ Dinner ┆ 4    │\n",
       "│ 25.29      ┆ 4.71 ┆ Male   ┆ No     ┆ Sun ┆ Dinner ┆ 4    │\n",
       "│ 8.77       ┆ 2.0  ┆ Male   ┆ No     ┆ Sun ┆ Dinner ┆ 2    │\n",
       "│ 26.88      ┆ 3.12 ┆ Male   ┆ No     ┆ Sun ┆ Dinner ┆ 4    │\n",
       "│ 15.04      ┆ 1.96 ┆ Male   ┆ No     ┆ Sun ┆ Dinner ┆ 2    │\n",
       "│ 14.78      ┆ 3.23 ┆ Male   ┆ No     ┆ Sun ┆ Dinner ┆ 2    │\n",
       "└────────────┴──────┴────────┴────────┴─────┴────────┴──────┘"
      ]
     },
     "execution_count": 6,
     "metadata": {},
     "output_type": "execute_result"
    }
   ],
   "source": [
    "df.head(10)"
   ]
  },
  {
   "cell_type": "code",
   "execution_count": null,
   "metadata": {},
   "outputs": [
    {
     "data": {
      "text/html": [
       "<div>\n",
       "<style scoped>\n",
       "    .dataframe tbody tr th:only-of-type {\n",
       "        vertical-align: middle;\n",
       "    }\n",
       "\n",
       "    .dataframe tbody tr th {\n",
       "        vertical-align: top;\n",
       "    }\n",
       "\n",
       "    .dataframe thead th {\n",
       "        text-align: right;\n",
       "    }\n",
       "</style>\n",
       "<table border=\"1\" class=\"dataframe\">\n",
       "  <thead>\n",
       "    <tr style=\"text-align: right;\">\n",
       "      <th></th>\n",
       "      <th>total_bill</th>\n",
       "      <th>tip</th>\n",
       "      <th>sex</th>\n",
       "      <th>smoker</th>\n",
       "      <th>day</th>\n",
       "      <th>time</th>\n",
       "      <th>size</th>\n",
       "    </tr>\n",
       "  </thead>\n",
       "  <tbody>\n",
       "    <tr>\n",
       "      <th>0</th>\n",
       "      <td>16.99</td>\n",
       "      <td>1.01</td>\n",
       "      <td>Female</td>\n",
       "      <td>No</td>\n",
       "      <td>Sun</td>\n",
       "      <td>Dinner</td>\n",
       "      <td>2</td>\n",
       "    </tr>\n",
       "    <tr>\n",
       "      <th>1</th>\n",
       "      <td>10.34</td>\n",
       "      <td>1.66</td>\n",
       "      <td>Male</td>\n",
       "      <td>No</td>\n",
       "      <td>Sun</td>\n",
       "      <td>Dinner</td>\n",
       "      <td>3</td>\n",
       "    </tr>\n",
       "    <tr>\n",
       "      <th>2</th>\n",
       "      <td>21.01</td>\n",
       "      <td>3.50</td>\n",
       "      <td>Male</td>\n",
       "      <td>No</td>\n",
       "      <td>Sun</td>\n",
       "      <td>Dinner</td>\n",
       "      <td>3</td>\n",
       "    </tr>\n",
       "    <tr>\n",
       "      <th>3</th>\n",
       "      <td>23.68</td>\n",
       "      <td>3.31</td>\n",
       "      <td>Male</td>\n",
       "      <td>No</td>\n",
       "      <td>Sun</td>\n",
       "      <td>Dinner</td>\n",
       "      <td>2</td>\n",
       "    </tr>\n",
       "    <tr>\n",
       "      <th>4</th>\n",
       "      <td>24.59</td>\n",
       "      <td>3.61</td>\n",
       "      <td>Female</td>\n",
       "      <td>No</td>\n",
       "      <td>Sun</td>\n",
       "      <td>Dinner</td>\n",
       "      <td>4</td>\n",
       "    </tr>\n",
       "    <tr>\n",
       "      <th>5</th>\n",
       "      <td>25.29</td>\n",
       "      <td>4.71</td>\n",
       "      <td>Male</td>\n",
       "      <td>No</td>\n",
       "      <td>Sun</td>\n",
       "      <td>Dinner</td>\n",
       "      <td>4</td>\n",
       "    </tr>\n",
       "    <tr>\n",
       "      <th>6</th>\n",
       "      <td>8.77</td>\n",
       "      <td>2.00</td>\n",
       "      <td>Male</td>\n",
       "      <td>No</td>\n",
       "      <td>Sun</td>\n",
       "      <td>Dinner</td>\n",
       "      <td>2</td>\n",
       "    </tr>\n",
       "    <tr>\n",
       "      <th>7</th>\n",
       "      <td>26.88</td>\n",
       "      <td>3.12</td>\n",
       "      <td>Male</td>\n",
       "      <td>No</td>\n",
       "      <td>Sun</td>\n",
       "      <td>Dinner</td>\n",
       "      <td>4</td>\n",
       "    </tr>\n",
       "    <tr>\n",
       "      <th>8</th>\n",
       "      <td>15.04</td>\n",
       "      <td>1.96</td>\n",
       "      <td>Male</td>\n",
       "      <td>No</td>\n",
       "      <td>Sun</td>\n",
       "      <td>Dinner</td>\n",
       "      <td>2</td>\n",
       "    </tr>\n",
       "    <tr>\n",
       "      <th>9</th>\n",
       "      <td>14.78</td>\n",
       "      <td>3.23</td>\n",
       "      <td>Male</td>\n",
       "      <td>No</td>\n",
       "      <td>Sun</td>\n",
       "      <td>Dinner</td>\n",
       "      <td>2</td>\n",
       "    </tr>\n",
       "  </tbody>\n",
       "</table>\n",
       "</div>"
      ],
      "text/plain": [
       "   total_bill   tip     sex smoker  day    time  size\n",
       "0       16.99  1.01  Female     No  Sun  Dinner     2\n",
       "1       10.34  1.66    Male     No  Sun  Dinner     3\n",
       "2       21.01  3.50    Male     No  Sun  Dinner     3\n",
       "3       23.68  3.31    Male     No  Sun  Dinner     2\n",
       "4       24.59  3.61  Female     No  Sun  Dinner     4\n",
       "5       25.29  4.71    Male     No  Sun  Dinner     4\n",
       "6        8.77  2.00    Male     No  Sun  Dinner     2\n",
       "7       26.88  3.12    Male     No  Sun  Dinner     4\n",
       "8       15.04  1.96    Male     No  Sun  Dinner     2\n",
       "9       14.78  3.23    Male     No  Sun  Dinner     2"
      ]
     },
     "execution_count": 7,
     "metadata": {},
     "output_type": "execute_result"
    }
   ],
   "source": [
    "df.head(10).to_pandas() #look at the difference in how it looks"
   ]
  },
  {
   "cell_type": "markdown",
   "metadata": {},
   "source": [
    "## Selecting and Filtering Data\n",
    "\n",
    "### 1. Indexing with []\n",
    "No loc or iloc in Polars (like there is in Pandas)\n",
    "\n",
    "This is usually not recommended in Polars, and so in the future we will often use speicfic functions like <b>select</b> for indexing."
   ]
  },
  {
   "cell_type": "code",
   "execution_count": null,
   "metadata": {},
   "outputs": [
    {
     "data": {
      "text/html": [
       "<div><style>\n",
       ".dataframe > thead > tr,\n",
       ".dataframe > tbody > tr {\n",
       "  text-align: right;\n",
       "  white-space: pre-wrap;\n",
       "}\n",
       "</style>\n",
       "<small>shape: (1, 7)</small><table border=\"1\" class=\"dataframe\"><thead><tr><th>total_bill</th><th>tip</th><th>sex</th><th>smoker</th><th>day</th><th>time</th><th>size</th></tr><tr><td>f64</td><td>f64</td><td>str</td><td>str</td><td>str</td><td>str</td><td>i64</td></tr></thead><tbody><tr><td>16.99</td><td>1.01</td><td>&quot;Female&quot;</td><td>&quot;No&quot;</td><td>&quot;Sun&quot;</td><td>&quot;Dinner&quot;</td><td>2</td></tr></tbody></table></div>"
      ],
      "text/plain": [
       "shape: (1, 7)\n",
       "┌────────────┬──────┬────────┬────────┬─────┬────────┬──────┐\n",
       "│ total_bill ┆ tip  ┆ sex    ┆ smoker ┆ day ┆ time   ┆ size │\n",
       "│ ---        ┆ ---  ┆ ---    ┆ ---    ┆ --- ┆ ---    ┆ ---  │\n",
       "│ f64        ┆ f64  ┆ str    ┆ str    ┆ str ┆ str    ┆ i64  │\n",
       "╞════════════╪══════╪════════╪════════╪═════╪════════╪══════╡\n",
       "│ 16.99      ┆ 1.01 ┆ Female ┆ No     ┆ Sun ┆ Dinner ┆ 2    │\n",
       "└────────────┴──────┴────────┴────────┴─────┴────────┴──────┘"
      ]
     },
     "execution_count": 8,
     "metadata": {},
     "output_type": "execute_result"
    }
   ],
   "source": [
    "df[0,:] #we just want the first row"
   ]
  },
  {
   "cell_type": "code",
   "execution_count": 17,
   "metadata": {},
   "outputs": [
    {
     "data": {
      "text/html": [
       "<div><style>\n",
       ".dataframe > thead > tr,\n",
       ".dataframe > tbody > tr {\n",
       "  text-align: right;\n",
       "  white-space: pre-wrap;\n",
       "}\n",
       "</style>\n",
       "<small>shape: (244,)</small><table border=\"1\" class=\"dataframe\"><thead><tr><th>sex</th></tr><tr><td>str</td></tr></thead><tbody><tr><td>&quot;Female&quot;</td></tr><tr><td>&quot;Male&quot;</td></tr><tr><td>&quot;Male&quot;</td></tr><tr><td>&quot;Male&quot;</td></tr><tr><td>&quot;Female&quot;</td></tr><tr><td>&hellip;</td></tr><tr><td>&quot;Male&quot;</td></tr><tr><td>&quot;Female&quot;</td></tr><tr><td>&quot;Male&quot;</td></tr><tr><td>&quot;Male&quot;</td></tr><tr><td>&quot;Female&quot;</td></tr></tbody></table></div>"
      ],
      "text/plain": [
       "shape: (244,)\n",
       "Series: 'sex' [str]\n",
       "[\n",
       "\t\"Female\"\n",
       "\t\"Male\"\n",
       "\t\"Male\"\n",
       "\t\"Male\"\n",
       "\t\"Female\"\n",
       "\t…\n",
       "\t\"Male\"\n",
       "\t\"Female\"\n",
       "\t\"Male\"\n",
       "\t\"Male\"\n",
       "\t\"Female\"\n",
       "]"
      ]
     },
     "execution_count": 17,
     "metadata": {},
     "output_type": "execute_result"
    }
   ],
   "source": [
    "df[\"sex\"] #we just want the \"sex\" column"
   ]
  },
  {
   "cell_type": "markdown",
   "metadata": {},
   "source": [
    "We can also use the filter command (equivalent to loc and iloc commands in pandas)."
   ]
  },
  {
   "cell_type": "code",
   "execution_count": null,
   "metadata": {},
   "outputs": [
    {
     "data": {
      "text/html": [
       "<div><style>\n",
       ".dataframe > thead > tr,\n",
       ".dataframe > tbody > tr {\n",
       "  text-align: right;\n",
       "  white-space: pre-wrap;\n",
       "}\n",
       "</style>\n",
       "<small>shape: (1, 7)</small><table border=\"1\" class=\"dataframe\"><thead><tr><th>total_bill</th><th>tip</th><th>sex</th><th>smoker</th><th>day</th><th>time</th><th>size</th></tr><tr><td>f64</td><td>f64</td><td>str</td><td>str</td><td>str</td><td>str</td><td>i64</td></tr></thead><tbody><tr><td>50.81</td><td>10.0</td><td>&quot;Male&quot;</td><td>&quot;Yes&quot;</td><td>&quot;Sat&quot;</td><td>&quot;Dinner&quot;</td><td>3</td></tr></tbody></table></div>"
      ],
      "text/plain": [
       "shape: (1, 7)\n",
       "┌────────────┬──────┬──────┬────────┬─────┬────────┬──────┐\n",
       "│ total_bill ┆ tip  ┆ sex  ┆ smoker ┆ day ┆ time   ┆ size │\n",
       "│ ---        ┆ ---  ┆ ---  ┆ ---    ┆ --- ┆ ---    ┆ ---  │\n",
       "│ f64        ┆ f64  ┆ str  ┆ str    ┆ str ┆ str    ┆ i64  │\n",
       "╞════════════╪══════╪══════╪════════╪═════╪════════╪══════╡\n",
       "│ 50.81      ┆ 10.0 ┆ Male ┆ Yes    ┆ Sat ┆ Dinner ┆ 3    │\n",
       "└────────────┴──────┴──────┴────────┴─────┴────────┴──────┘"
      ]
     },
     "execution_count": 11,
     "metadata": {},
     "output_type": "execute_result"
    }
   ],
   "source": [
    "df.filter(df[\"total_bill\"] > 50) #filter the data frame when the total bill is greater than 50"
   ]
  },
  {
   "cell_type": "markdown",
   "metadata": {},
   "source": [
    "Using the <b>pl.col</b> function call is better practice for specifying a column"
   ]
  },
  {
   "cell_type": "code",
   "execution_count": null,
   "metadata": {},
   "outputs": [
    {
     "data": {
      "text/html": [
       "<div><style>\n",
       ".dataframe > thead > tr,\n",
       ".dataframe > tbody > tr {\n",
       "  text-align: right;\n",
       "  white-space: pre-wrap;\n",
       "}\n",
       "</style>\n",
       "<small>shape: (1, 7)</small><table border=\"1\" class=\"dataframe\"><thead><tr><th>total_bill</th><th>tip</th><th>sex</th><th>smoker</th><th>day</th><th>time</th><th>size</th></tr><tr><td>f64</td><td>f64</td><td>str</td><td>str</td><td>str</td><td>str</td><td>i64</td></tr></thead><tbody><tr><td>50.81</td><td>10.0</td><td>&quot;Male&quot;</td><td>&quot;Yes&quot;</td><td>&quot;Sat&quot;</td><td>&quot;Dinner&quot;</td><td>3</td></tr></tbody></table></div>"
      ],
      "text/plain": [
       "shape: (1, 7)\n",
       "┌────────────┬──────┬──────┬────────┬─────┬────────┬──────┐\n",
       "│ total_bill ┆ tip  ┆ sex  ┆ smoker ┆ day ┆ time   ┆ size │\n",
       "│ ---        ┆ ---  ┆ ---  ┆ ---    ┆ --- ┆ ---    ┆ ---  │\n",
       "│ f64        ┆ f64  ┆ str  ┆ str    ┆ str ┆ str    ┆ i64  │\n",
       "╞════════════╪══════╪══════╪════════╪═════╪════════╪══════╡\n",
       "│ 50.81      ┆ 10.0 ┆ Male ┆ Yes    ┆ Sat ┆ Dinner ┆ 3    │\n",
       "└────────────┴──────┴──────┴────────┴─────┴────────┴──────┘"
      ]
     },
     "execution_count": 14,
     "metadata": {},
     "output_type": "execute_result"
    }
   ],
   "source": [
    "df.filter(pl.col(\"total_bill\") > 50)"
   ]
  },
  {
   "cell_type": "markdown",
   "metadata": {},
   "source": [
    "### 2. Select data with idiomatic polars"
   ]
  },
  {
   "cell_type": "code",
   "execution_count": null,
   "metadata": {},
   "outputs": [
    {
     "data": {
      "text/html": [
       "<div><style>\n",
       ".dataframe > thead > tr,\n",
       ".dataframe > tbody > tr {\n",
       "  text-align: right;\n",
       "  white-space: pre-wrap;\n",
       "}\n",
       "</style>\n",
       "<small>shape: (244, 2)</small><table border=\"1\" class=\"dataframe\"><thead><tr><th>sex</th><th>smoker</th></tr><tr><td>str</td><td>str</td></tr></thead><tbody><tr><td>&quot;Female&quot;</td><td>&quot;No&quot;</td></tr><tr><td>&quot;Male&quot;</td><td>&quot;No&quot;</td></tr><tr><td>&quot;Male&quot;</td><td>&quot;No&quot;</td></tr><tr><td>&quot;Male&quot;</td><td>&quot;No&quot;</td></tr><tr><td>&quot;Female&quot;</td><td>&quot;No&quot;</td></tr><tr><td>&hellip;</td><td>&hellip;</td></tr><tr><td>&quot;Male&quot;</td><td>&quot;No&quot;</td></tr><tr><td>&quot;Female&quot;</td><td>&quot;Yes&quot;</td></tr><tr><td>&quot;Male&quot;</td><td>&quot;Yes&quot;</td></tr><tr><td>&quot;Male&quot;</td><td>&quot;No&quot;</td></tr><tr><td>&quot;Female&quot;</td><td>&quot;No&quot;</td></tr></tbody></table></div>"
      ],
      "text/plain": [
       "shape: (244, 2)\n",
       "┌────────┬────────┐\n",
       "│ sex    ┆ smoker │\n",
       "│ ---    ┆ ---    │\n",
       "│ str    ┆ str    │\n",
       "╞════════╪════════╡\n",
       "│ Female ┆ No     │\n",
       "│ Male   ┆ No     │\n",
       "│ Male   ┆ No     │\n",
       "│ Male   ┆ No     │\n",
       "│ Female ┆ No     │\n",
       "│ …      ┆ …      │\n",
       "│ Male   ┆ No     │\n",
       "│ Female ┆ Yes    │\n",
       "│ Male   ┆ Yes    │\n",
       "│ Male   ┆ No     │\n",
       "│ Female ┆ No     │\n",
       "└────────┴────────┘"
      ]
     },
     "execution_count": 15,
     "metadata": {},
     "output_type": "execute_result"
    }
   ],
   "source": [
    "df.select([\"sex\", \"smoker\"])"
   ]
  },
  {
   "cell_type": "markdown",
   "metadata": {},
   "source": [
    "The alias function allows us to name a new column we want to make."
   ]
  },
  {
   "cell_type": "code",
   "execution_count": 31,
   "metadata": {},
   "outputs": [
    {
     "data": {
      "text/html": [
       "<div><style>\n",
       ".dataframe > thead > tr,\n",
       ".dataframe > tbody > tr {\n",
       "  text-align: right;\n",
       "  white-space: pre-wrap;\n",
       "}\n",
       "</style>\n",
       "<small>shape: (5, 8)</small><table border=\"1\" class=\"dataframe\"><thead><tr><th>total_bill</th><th>tip</th><th>sex</th><th>smoker</th><th>day</th><th>time</th><th>size</th><th>tip_percent</th></tr><tr><td>f64</td><td>f64</td><td>str</td><td>str</td><td>str</td><td>str</td><td>i64</td><td>f64</td></tr></thead><tbody><tr><td>16.99</td><td>1.01</td><td>&quot;Female&quot;</td><td>&quot;No&quot;</td><td>&quot;Sun&quot;</td><td>&quot;Dinner&quot;</td><td>2</td><td>5.944673</td></tr><tr><td>10.34</td><td>1.66</td><td>&quot;Male&quot;</td><td>&quot;No&quot;</td><td>&quot;Sun&quot;</td><td>&quot;Dinner&quot;</td><td>3</td><td>16.054159</td></tr><tr><td>21.01</td><td>3.5</td><td>&quot;Male&quot;</td><td>&quot;No&quot;</td><td>&quot;Sun&quot;</td><td>&quot;Dinner&quot;</td><td>3</td><td>16.658734</td></tr><tr><td>23.68</td><td>3.31</td><td>&quot;Male&quot;</td><td>&quot;No&quot;</td><td>&quot;Sun&quot;</td><td>&quot;Dinner&quot;</td><td>2</td><td>13.978041</td></tr><tr><td>24.59</td><td>3.61</td><td>&quot;Female&quot;</td><td>&quot;No&quot;</td><td>&quot;Sun&quot;</td><td>&quot;Dinner&quot;</td><td>4</td><td>14.680765</td></tr></tbody></table></div>"
      ],
      "text/plain": [
       "shape: (5, 8)\n",
       "┌────────────┬──────┬────────┬────────┬─────┬────────┬──────┬─────────────┐\n",
       "│ total_bill ┆ tip  ┆ sex    ┆ smoker ┆ day ┆ time   ┆ size ┆ tip_percent │\n",
       "│ ---        ┆ ---  ┆ ---    ┆ ---    ┆ --- ┆ ---    ┆ ---  ┆ ---         │\n",
       "│ f64        ┆ f64  ┆ str    ┆ str    ┆ str ┆ str    ┆ i64  ┆ f64         │\n",
       "╞════════════╪══════╪════════╪════════╪═════╪════════╪══════╪═════════════╡\n",
       "│ 16.99      ┆ 1.01 ┆ Female ┆ No     ┆ Sun ┆ Dinner ┆ 2    ┆ 5.944673    │\n",
       "│ 10.34      ┆ 1.66 ┆ Male   ┆ No     ┆ Sun ┆ Dinner ┆ 3    ┆ 16.054159   │\n",
       "│ 21.01      ┆ 3.5  ┆ Male   ┆ No     ┆ Sun ┆ Dinner ┆ 3    ┆ 16.658734   │\n",
       "│ 23.68      ┆ 3.31 ┆ Male   ┆ No     ┆ Sun ┆ Dinner ┆ 2    ┆ 13.978041   │\n",
       "│ 24.59      ┆ 3.61 ┆ Female ┆ No     ┆ Sun ┆ Dinner ┆ 4    ┆ 14.680765   │\n",
       "└────────────┴──────┴────────┴────────┴─────┴────────┴──────┴─────────────┘"
      ]
     },
     "execution_count": 31,
     "metadata": {},
     "output_type": "execute_result"
    }
   ],
   "source": [
    "# Adding new column that calculates percent of tip\n",
    "\n",
    "#Here we are creating a new tip percent column that takes into account 2 exisitng columns\n",
    "df = df.with_columns([\n",
    "    ((pl.col(\"tip\") / pl.col(\"total_bill\") )*100).alias(\"tip_percent\")\n",
    "]) #we have to set it equal to the data frame otherwise the change isnt actually applied to the data frame\n",
    "\n",
    "df.head()"
   ]
  },
  {
   "cell_type": "code",
   "execution_count": 32,
   "metadata": {},
   "outputs": [
    {
     "data": {
      "text/html": [
       "<div><style>\n",
       ".dataframe > thead > tr,\n",
       ".dataframe > tbody > tr {\n",
       "  text-align: right;\n",
       "  white-space: pre-wrap;\n",
       "}\n",
       "</style>\n",
       "<small>shape: (217, 8)</small><table border=\"1\" class=\"dataframe\"><thead><tr><th>total_bill</th><th>tip</th><th>sex</th><th>smoker</th><th>day</th><th>time</th><th>size</th><th>tip_percent</th></tr><tr><td>f64</td><td>f64</td><td>str</td><td>str</td><td>str</td><td>str</td><td>i64</td><td>f64</td></tr></thead><tbody><tr><td>10.34</td><td>1.66</td><td>&quot;Male&quot;</td><td>&quot;No&quot;</td><td>&quot;Sun&quot;</td><td>&quot;Dinner&quot;</td><td>3</td><td>16.054159</td></tr><tr><td>21.01</td><td>3.5</td><td>&quot;Male&quot;</td><td>&quot;No&quot;</td><td>&quot;Sun&quot;</td><td>&quot;Dinner&quot;</td><td>3</td><td>16.658734</td></tr><tr><td>23.68</td><td>3.31</td><td>&quot;Male&quot;</td><td>&quot;No&quot;</td><td>&quot;Sun&quot;</td><td>&quot;Dinner&quot;</td><td>2</td><td>13.978041</td></tr><tr><td>24.59</td><td>3.61</td><td>&quot;Female&quot;</td><td>&quot;No&quot;</td><td>&quot;Sun&quot;</td><td>&quot;Dinner&quot;</td><td>4</td><td>14.680765</td></tr><tr><td>25.29</td><td>4.71</td><td>&quot;Male&quot;</td><td>&quot;No&quot;</td><td>&quot;Sun&quot;</td><td>&quot;Dinner&quot;</td><td>4</td><td>18.623962</td></tr><tr><td>&hellip;</td><td>&hellip;</td><td>&hellip;</td><td>&hellip;</td><td>&hellip;</td><td>&hellip;</td><td>&hellip;</td><td>&hellip;</td></tr><tr><td>15.53</td><td>3.0</td><td>&quot;Male&quot;</td><td>&quot;Yes&quot;</td><td>&quot;Sat&quot;</td><td>&quot;Dinner&quot;</td><td>2</td><td>19.31745</td></tr><tr><td>10.07</td><td>1.25</td><td>&quot;Male&quot;</td><td>&quot;No&quot;</td><td>&quot;Sat&quot;</td><td>&quot;Dinner&quot;</td><td>2</td><td>12.413108</td></tr><tr><td>35.83</td><td>4.67</td><td>&quot;Female&quot;</td><td>&quot;No&quot;</td><td>&quot;Sat&quot;</td><td>&quot;Dinner&quot;</td><td>3</td><td>13.033771</td></tr><tr><td>29.03</td><td>5.92</td><td>&quot;Male&quot;</td><td>&quot;No&quot;</td><td>&quot;Sat&quot;</td><td>&quot;Dinner&quot;</td><td>3</td><td>20.392697</td></tr><tr><td>18.78</td><td>3.0</td><td>&quot;Female&quot;</td><td>&quot;No&quot;</td><td>&quot;Thur&quot;</td><td>&quot;Dinner&quot;</td><td>2</td><td>15.974441</td></tr></tbody></table></div>"
      ],
      "text/plain": [
       "shape: (217, 8)\n",
       "┌────────────┬──────┬────────┬────────┬──────┬────────┬──────┬─────────────┐\n",
       "│ total_bill ┆ tip  ┆ sex    ┆ smoker ┆ day  ┆ time   ┆ size ┆ tip_percent │\n",
       "│ ---        ┆ ---  ┆ ---    ┆ ---    ┆ ---  ┆ ---    ┆ ---  ┆ ---         │\n",
       "│ f64        ┆ f64  ┆ str    ┆ str    ┆ str  ┆ str    ┆ i64  ┆ f64         │\n",
       "╞════════════╪══════╪════════╪════════╪══════╪════════╪══════╪═════════════╡\n",
       "│ 10.34      ┆ 1.66 ┆ Male   ┆ No     ┆ Sun  ┆ Dinner ┆ 3    ┆ 16.054159   │\n",
       "│ 21.01      ┆ 3.5  ┆ Male   ┆ No     ┆ Sun  ┆ Dinner ┆ 3    ┆ 16.658734   │\n",
       "│ 23.68      ┆ 3.31 ┆ Male   ┆ No     ┆ Sun  ┆ Dinner ┆ 2    ┆ 13.978041   │\n",
       "│ 24.59      ┆ 3.61 ┆ Female ┆ No     ┆ Sun  ┆ Dinner ┆ 4    ┆ 14.680765   │\n",
       "│ 25.29      ┆ 4.71 ┆ Male   ┆ No     ┆ Sun  ┆ Dinner ┆ 4    ┆ 18.623962   │\n",
       "│ …          ┆ …    ┆ …      ┆ …      ┆ …    ┆ …      ┆ …    ┆ …           │\n",
       "│ 15.53      ┆ 3.0  ┆ Male   ┆ Yes    ┆ Sat  ┆ Dinner ┆ 2    ┆ 19.31745    │\n",
       "│ 10.07      ┆ 1.25 ┆ Male   ┆ No     ┆ Sat  ┆ Dinner ┆ 2    ┆ 12.413108   │\n",
       "│ 35.83      ┆ 4.67 ┆ Female ┆ No     ┆ Sat  ┆ Dinner ┆ 3    ┆ 13.033771   │\n",
       "│ 29.03      ┆ 5.92 ┆ Male   ┆ No     ┆ Sat  ┆ Dinner ┆ 3    ┆ 20.392697   │\n",
       "│ 18.78      ┆ 3.0  ┆ Female ┆ No     ┆ Thur ┆ Dinner ┆ 2    ┆ 15.974441   │\n",
       "└────────────┴──────┴────────┴────────┴──────┴────────┴──────┴─────────────┘"
      ]
     },
     "execution_count": 32,
     "metadata": {},
     "output_type": "execute_result"
    }
   ],
   "source": [
    "df.filter(pl.col(\"tip_percent\") > 10) #returns all the time the tip percentage is greater than 10"
   ]
  },
  {
   "cell_type": "markdown",
   "metadata": {},
   "source": [
    "## Computation on the select context"
   ]
  },
  {
   "cell_type": "code",
   "execution_count": 38,
   "metadata": {},
   "outputs": [
    {
     "data": {
      "text/html": [
       "<div><style>\n",
       ".dataframe > thead > tr,\n",
       ".dataframe > tbody > tr {\n",
       "  text-align: right;\n",
       "  white-space: pre-wrap;\n",
       "}\n",
       "</style>\n",
       "<small>shape: (1, 1)</small><table border=\"1\" class=\"dataframe\"><thead><tr><th>size</th></tr><tr><td>u32</td></tr></thead><tbody><tr><td>6</td></tr></tbody></table></div>"
      ],
      "text/plain": [
       "shape: (1, 1)\n",
       "┌──────┐\n",
       "│ size │\n",
       "│ ---  │\n",
       "│ u32  │\n",
       "╞══════╡\n",
       "│ 6    │\n",
       "└──────┘"
      ]
     },
     "execution_count": 38,
     "metadata": {},
     "output_type": "execute_result"
    }
   ],
   "source": [
    "df.select([\n",
    "    pl.col(\"size\").n_unique() #unique sizes of people at \n",
    "])"
   ]
  },
  {
   "cell_type": "code",
   "execution_count": 33,
   "metadata": {},
   "outputs": [],
   "source": [
    "#data frame containing metrics of our data\n",
    "\n",
    "#lets for example work on the tip percentages\n",
    "\n",
    "stat = df.select([\n",
    "    pl.col(\"tip_percent\").min().alias(\"min\"),\n",
    "    pl.col(\"tip_percent\").mean().alias(\"mean\"),\n",
    "    pl.col(\"tip_percent\").median().alias(\"median\"),\n",
    "    pl.col(\"tip_percent\").max().alias(\"max\"),\n",
    "    pl.col(\"tip_percent\").std().alias(\"std_dev\")\n",
    "])\n",
    "\n",
    "#this wont mess up our original data frame"
   ]
  },
  {
   "cell_type": "code",
   "execution_count": null,
   "metadata": {},
   "outputs": [
    {
     "data": {
      "text/html": [
       "<div><style>\n",
       ".dataframe > thead > tr,\n",
       ".dataframe > tbody > tr {\n",
       "  text-align: right;\n",
       "  white-space: pre-wrap;\n",
       "}\n",
       "</style>\n",
       "<small>shape: (9, 2)</small><table border=\"1\" class=\"dataframe\"><thead><tr><th>statistic</th><th>tip_percent</th></tr><tr><td>str</td><td>f64</td></tr></thead><tbody><tr><td>&quot;count&quot;</td><td>244.0</td></tr><tr><td>&quot;null_count&quot;</td><td>0.0</td></tr><tr><td>&quot;mean&quot;</td><td>16.080258</td></tr><tr><td>&quot;std&quot;</td><td>6.10722</td></tr><tr><td>&quot;min&quot;</td><td>3.563814</td></tr><tr><td>&quot;25%&quot;</td><td>12.942192</td></tr><tr><td>&quot;50%&quot;</td><td>15.521855</td></tr><tr><td>&quot;75%&quot;</td><td>19.120459</td></tr><tr><td>&quot;max&quot;</td><td>71.034483</td></tr></tbody></table></div>"
      ],
      "text/plain": [
       "shape: (9, 2)\n",
       "┌────────────┬─────────────┐\n",
       "│ statistic  ┆ tip_percent │\n",
       "│ ---        ┆ ---         │\n",
       "│ str        ┆ f64         │\n",
       "╞════════════╪═════════════╡\n",
       "│ count      ┆ 244.0       │\n",
       "│ null_count ┆ 0.0         │\n",
       "│ mean       ┆ 16.080258   │\n",
       "│ std        ┆ 6.10722     │\n",
       "│ min        ┆ 3.563814    │\n",
       "│ 25%        ┆ 12.942192   │\n",
       "│ 50%        ┆ 15.521855   │\n",
       "│ 75%        ┆ 19.120459   │\n",
       "│ max        ┆ 71.034483   │\n",
       "└────────────┴─────────────┘"
      ]
     },
     "execution_count": 46,
     "metadata": {},
     "output_type": "execute_result"
    }
   ],
   "source": [
    "df.select([pl.col(\"tip_percent\")]).describe()\n",
    "\n",
    "#easier way to do above"
   ]
  },
  {
   "cell_type": "markdown",
   "metadata": {},
   "source": [
    "The sample function allows us to get a sample of our data set (instead of just using head and always getting the first few lines)"
   ]
  },
  {
   "cell_type": "code",
   "execution_count": null,
   "metadata": {},
   "outputs": [
    {
     "data": {
      "text/html": [
       "<div><style>\n",
       ".dataframe > thead > tr,\n",
       ".dataframe > tbody > tr {\n",
       "  text-align: right;\n",
       "  white-space: pre-wrap;\n",
       "}\n",
       "</style>\n",
       "<small>shape: (10, 8)</small><table border=\"1\" class=\"dataframe\"><thead><tr><th>total_bill</th><th>tip</th><th>sex</th><th>smoker</th><th>day</th><th>time</th><th>size</th><th>tip_percent</th></tr><tr><td>f64</td><td>f64</td><td>str</td><td>str</td><td>str</td><td>str</td><td>i64</td><td>f64</td></tr></thead><tbody><tr><td>24.52</td><td>3.48</td><td>&quot;Male&quot;</td><td>&quot;No&quot;</td><td>&quot;Sun&quot;</td><td>&quot;Dinner&quot;</td><td>3</td><td>14.192496</td></tr><tr><td>20.53</td><td>4.0</td><td>&quot;Male&quot;</td><td>&quot;Yes&quot;</td><td>&quot;Thur&quot;</td><td>&quot;Lunch&quot;</td><td>4</td><td>19.483682</td></tr><tr><td>8.35</td><td>1.5</td><td>&quot;Female&quot;</td><td>&quot;No&quot;</td><td>&quot;Thur&quot;</td><td>&quot;Lunch&quot;</td><td>2</td><td>17.964072</td></tr><tr><td>13.94</td><td>3.06</td><td>&quot;Male&quot;</td><td>&quot;No&quot;</td><td>&quot;Sun&quot;</td><td>&quot;Dinner&quot;</td><td>2</td><td>21.95122</td></tr><tr><td>17.47</td><td>3.5</td><td>&quot;Female&quot;</td><td>&quot;No&quot;</td><td>&quot;Thur&quot;</td><td>&quot;Lunch&quot;</td><td>2</td><td>20.034345</td></tr><tr><td>18.71</td><td>4.0</td><td>&quot;Male&quot;</td><td>&quot;Yes&quot;</td><td>&quot;Thur&quot;</td><td>&quot;Lunch&quot;</td><td>3</td><td>21.378942</td></tr><tr><td>23.95</td><td>2.55</td><td>&quot;Male&quot;</td><td>&quot;No&quot;</td><td>&quot;Sun&quot;</td><td>&quot;Dinner&quot;</td><td>2</td><td>10.647182</td></tr><tr><td>7.74</td><td>1.44</td><td>&quot;Male&quot;</td><td>&quot;Yes&quot;</td><td>&quot;Sat&quot;</td><td>&quot;Dinner&quot;</td><td>2</td><td>18.604651</td></tr><tr><td>48.33</td><td>9.0</td><td>&quot;Male&quot;</td><td>&quot;No&quot;</td><td>&quot;Sat&quot;</td><td>&quot;Dinner&quot;</td><td>4</td><td>18.621974</td></tr><tr><td>10.65</td><td>1.5</td><td>&quot;Female&quot;</td><td>&quot;No&quot;</td><td>&quot;Thur&quot;</td><td>&quot;Lunch&quot;</td><td>2</td><td>14.084507</td></tr></tbody></table></div>"
      ],
      "text/plain": [
       "shape: (10, 8)\n",
       "┌────────────┬──────┬────────┬────────┬──────┬────────┬──────┬─────────────┐\n",
       "│ total_bill ┆ tip  ┆ sex    ┆ smoker ┆ day  ┆ time   ┆ size ┆ tip_percent │\n",
       "│ ---        ┆ ---  ┆ ---    ┆ ---    ┆ ---  ┆ ---    ┆ ---  ┆ ---         │\n",
       "│ f64        ┆ f64  ┆ str    ┆ str    ┆ str  ┆ str    ┆ i64  ┆ f64         │\n",
       "╞════════════╪══════╪════════╪════════╪══════╪════════╪══════╪═════════════╡\n",
       "│ 24.52      ┆ 3.48 ┆ Male   ┆ No     ┆ Sun  ┆ Dinner ┆ 3    ┆ 14.192496   │\n",
       "│ 20.53      ┆ 4.0  ┆ Male   ┆ Yes    ┆ Thur ┆ Lunch  ┆ 4    ┆ 19.483682   │\n",
       "│ 8.35       ┆ 1.5  ┆ Female ┆ No     ┆ Thur ┆ Lunch  ┆ 2    ┆ 17.964072   │\n",
       "│ 13.94      ┆ 3.06 ┆ Male   ┆ No     ┆ Sun  ┆ Dinner ┆ 2    ┆ 21.95122    │\n",
       "│ 17.47      ┆ 3.5  ┆ Female ┆ No     ┆ Thur ┆ Lunch  ┆ 2    ┆ 20.034345   │\n",
       "│ 18.71      ┆ 4.0  ┆ Male   ┆ Yes    ┆ Thur ┆ Lunch  ┆ 3    ┆ 21.378942   │\n",
       "│ 23.95      ┆ 2.55 ┆ Male   ┆ No     ┆ Sun  ┆ Dinner ┆ 2    ┆ 10.647182   │\n",
       "│ 7.74       ┆ 1.44 ┆ Male   ┆ Yes    ┆ Sat  ┆ Dinner ┆ 2    ┆ 18.604651   │\n",
       "│ 48.33      ┆ 9.0  ┆ Male   ┆ No     ┆ Sat  ┆ Dinner ┆ 4    ┆ 18.621974   │\n",
       "│ 10.65      ┆ 1.5  ┆ Female ┆ No     ┆ Thur ┆ Lunch  ┆ 2    ┆ 14.084507   │\n",
       "└────────────┴──────┴────────┴────────┴──────┴────────┴──────┴─────────────┘"
      ]
     },
     "execution_count": 47,
     "metadata": {},
     "output_type": "execute_result"
    }
   ],
   "source": [
    "df.sample(10)"
   ]
  },
  {
   "cell_type": "markdown",
   "metadata": {},
   "source": [
    "Displaying different metrics onto a graph must be done by converting to pandas first (because of pandas better integration with other libraires)"
   ]
  },
  {
   "cell_type": "code",
   "execution_count": 61,
   "metadata": {},
   "outputs": [
    {
     "data": {
      "text/plain": [
       "array([[<Axes: title={'center': 'tip_percent'}>]], dtype=object)"
      ]
     },
     "execution_count": 61,
     "metadata": {},
     "output_type": "execute_result"
    },
    {
     "data": {
      "image/png": "[encoded data removed]",
      "text/plain": [
       "<Figure size 640x480 with 1 Axes>"
      ]
     },
     "metadata": {},
     "output_type": "display_data"
    }
   ],
   "source": [
    "df.select([\"tip_percent\"]).to_pandas().hist(bins=50)"
   ]
  },
  {
   "cell_type": "markdown",
   "metadata": {},
   "source": [
    "### Updating columns and intro to window functons"
   ]
  },
  {
   "cell_type": "markdown",
   "metadata": {},
   "source": [
    "Updating a string column:\n",
    "\n",
    "Was unable to get this to work unfortunately"
   ]
  },
  {
   "cell_type": "code",
   "execution_count": 80,
   "metadata": {},
   "outputs": [],
   "source": [
    "#changing the sex column to return M and F instead of Male and Female\n",
    "\n",
    "# df = df.with_columns([\n",
    "#     pl.when(pl.col(\"sex\") == \"Female\").then(\"F\")\n",
    "#     .otherwise(pl.col(\"sex\"))\n",
    "#     .alias(\"sex\")\n",
    "# ])\n",
    "\n",
    "#Can't get this to work??\n"
   ]
  },
  {
   "cell_type": "markdown",
   "metadata": {},
   "source": [
    "Updating a numeric column."
   ]
  },
  {
   "cell_type": "code",
   "execution_count": 87,
   "metadata": {},
   "outputs": [
    {
     "data": {
      "text/html": [
       "<div><style>\n",
       ".dataframe > thead > tr,\n",
       ".dataframe > tbody > tr {\n",
       "  text-align: right;\n",
       "  white-space: pre-wrap;\n",
       "}\n",
       "</style>\n",
       "<small>shape: (244, 8)</small><table border=\"1\" class=\"dataframe\"><thead><tr><th>total_bill</th><th>tip</th><th>sex</th><th>smoker</th><th>day</th><th>time</th><th>size</th><th>tip_percent</th></tr><tr><td>f64</td><td>f64</td><td>str</td><td>str</td><td>str</td><td>str</td><td>i64</td><td>f64</td></tr></thead><tbody><tr><td>16.99</td><td>101.0</td><td>&quot;Female&quot;</td><td>&quot;No&quot;</td><td>&quot;Sun&quot;</td><td>&quot;Dinner&quot;</td><td>2</td><td>0.059447</td></tr><tr><td>10.34</td><td>166.0</td><td>&quot;Male&quot;</td><td>&quot;No&quot;</td><td>&quot;Sun&quot;</td><td>&quot;Dinner&quot;</td><td>3</td><td>0.160542</td></tr><tr><td>21.01</td><td>350.0</td><td>&quot;Male&quot;</td><td>&quot;No&quot;</td><td>&quot;Sun&quot;</td><td>&quot;Dinner&quot;</td><td>3</td><td>0.166587</td></tr><tr><td>23.68</td><td>331.0</td><td>&quot;Male&quot;</td><td>&quot;No&quot;</td><td>&quot;Sun&quot;</td><td>&quot;Dinner&quot;</td><td>2</td><td>0.13978</td></tr><tr><td>24.59</td><td>361.0</td><td>&quot;Female&quot;</td><td>&quot;No&quot;</td><td>&quot;Sun&quot;</td><td>&quot;Dinner&quot;</td><td>4</td><td>0.146808</td></tr><tr><td>&hellip;</td><td>&hellip;</td><td>&hellip;</td><td>&hellip;</td><td>&hellip;</td><td>&hellip;</td><td>&hellip;</td><td>&hellip;</td></tr><tr><td>29.03</td><td>592.0</td><td>&quot;Male&quot;</td><td>&quot;No&quot;</td><td>&quot;Sat&quot;</td><td>&quot;Dinner&quot;</td><td>3</td><td>0.203927</td></tr><tr><td>27.18</td><td>200.0</td><td>&quot;Female&quot;</td><td>&quot;Yes&quot;</td><td>&quot;Sat&quot;</td><td>&quot;Dinner&quot;</td><td>2</td><td>0.073584</td></tr><tr><td>22.67</td><td>200.0</td><td>&quot;Male&quot;</td><td>&quot;Yes&quot;</td><td>&quot;Sat&quot;</td><td>&quot;Dinner&quot;</td><td>2</td><td>0.088222</td></tr><tr><td>17.82</td><td>175.0</td><td>&quot;Male&quot;</td><td>&quot;No&quot;</td><td>&quot;Sat&quot;</td><td>&quot;Dinner&quot;</td><td>2</td><td>0.098204</td></tr><tr><td>18.78</td><td>300.0</td><td>&quot;Female&quot;</td><td>&quot;No&quot;</td><td>&quot;Thur&quot;</td><td>&quot;Dinner&quot;</td><td>2</td><td>0.159744</td></tr></tbody></table></div>"
      ],
      "text/plain": [
       "shape: (244, 8)\n",
       "┌────────────┬───────┬────────┬────────┬──────┬────────┬──────┬─────────────┐\n",
       "│ total_bill ┆ tip   ┆ sex    ┆ smoker ┆ day  ┆ time   ┆ size ┆ tip_percent │\n",
       "│ ---        ┆ ---   ┆ ---    ┆ ---    ┆ ---  ┆ ---    ┆ ---  ┆ ---         │\n",
       "│ f64        ┆ f64   ┆ str    ┆ str    ┆ str  ┆ str    ┆ i64  ┆ f64         │\n",
       "╞════════════╪═══════╪════════╪════════╪══════╪════════╪══════╪═════════════╡\n",
       "│ 16.99      ┆ 101.0 ┆ Female ┆ No     ┆ Sun  ┆ Dinner ┆ 2    ┆ 0.059447    │\n",
       "│ 10.34      ┆ 166.0 ┆ Male   ┆ No     ┆ Sun  ┆ Dinner ┆ 3    ┆ 0.160542    │\n",
       "│ 21.01      ┆ 350.0 ┆ Male   ┆ No     ┆ Sun  ┆ Dinner ┆ 3    ┆ 0.166587    │\n",
       "│ 23.68      ┆ 331.0 ┆ Male   ┆ No     ┆ Sun  ┆ Dinner ┆ 2    ┆ 0.13978     │\n",
       "│ 24.59      ┆ 361.0 ┆ Female ┆ No     ┆ Sun  ┆ Dinner ┆ 4    ┆ 0.146808    │\n",
       "│ …          ┆ …     ┆ …      ┆ …      ┆ …    ┆ …      ┆ …    ┆ …           │\n",
       "│ 29.03      ┆ 592.0 ┆ Male   ┆ No     ┆ Sat  ┆ Dinner ┆ 3    ┆ 0.203927    │\n",
       "│ 27.18      ┆ 200.0 ┆ Female ┆ Yes    ┆ Sat  ┆ Dinner ┆ 2    ┆ 0.073584    │\n",
       "│ 22.67      ┆ 200.0 ┆ Male   ┆ Yes    ┆ Sat  ┆ Dinner ┆ 2    ┆ 0.088222    │\n",
       "│ 17.82      ┆ 175.0 ┆ Male   ┆ No     ┆ Sat  ┆ Dinner ┆ 2    ┆ 0.098204    │\n",
       "│ 18.78      ┆ 300.0 ┆ Female ┆ No     ┆ Thur ┆ Dinner ┆ 2    ┆ 0.159744    │\n",
       "└────────────┴───────┴────────┴────────┴──────┴────────┴──────┴─────────────┘"
      ]
     },
     "execution_count": 87,
     "metadata": {},
     "output_type": "execute_result"
    }
   ],
   "source": [
    "df.with_columns([\n",
    "    (pl.col(\"tip\") * 100),\n",
    "    (pl.col(\"tip_percent\") / 100)\n",
    "    ]) #just multpling 2 numeric columns"
   ]
  },
  {
   "cell_type": "markdown",
   "metadata": {},
   "source": [
    "#### Updating values based on window function\n",
    "\n",
    "Essentially we want to update values of a column BY a group and the new column has the same sze of the original data frame."
   ]
  },
  {
   "cell_type": "code",
   "execution_count": 104,
   "metadata": {},
   "outputs": [
    {
     "data": {
      "text/html": [
       "<div><style>\n",
       ".dataframe > thead > tr,\n",
       ".dataframe > tbody > tr {\n",
       "  text-align: right;\n",
       "  white-space: pre-wrap;\n",
       "}\n",
       "</style>\n",
       "<small>shape: (5, 9)</small><table border=\"1\" class=\"dataframe\"><thead><tr><th>total_bill</th><th>tip</th><th>sex</th><th>smoker</th><th>day</th><th>time</th><th>size</th><th>tip_percent</th><th>mean_tip_by_gender</th></tr><tr><td>f64</td><td>f64</td><td>str</td><td>str</td><td>str</td><td>str</td><td>i64</td><td>f64</td><td>f64</td></tr></thead><tbody><tr><td>16.99</td><td>1.01</td><td>&quot;Female&quot;</td><td>&quot;No&quot;</td><td>&quot;Sun&quot;</td><td>&quot;Dinner&quot;</td><td>2</td><td>5.944673</td><td>16.649074</td></tr><tr><td>10.34</td><td>1.66</td><td>&quot;Male&quot;</td><td>&quot;No&quot;</td><td>&quot;Sun&quot;</td><td>&quot;Dinner&quot;</td><td>3</td><td>16.054159</td><td>15.765055</td></tr><tr><td>21.01</td><td>3.5</td><td>&quot;Male&quot;</td><td>&quot;No&quot;</td><td>&quot;Sun&quot;</td><td>&quot;Dinner&quot;</td><td>3</td><td>16.658734</td><td>15.765055</td></tr><tr><td>23.68</td><td>3.31</td><td>&quot;Male&quot;</td><td>&quot;No&quot;</td><td>&quot;Sun&quot;</td><td>&quot;Dinner&quot;</td><td>2</td><td>13.978041</td><td>15.765055</td></tr><tr><td>24.59</td><td>3.61</td><td>&quot;Female&quot;</td><td>&quot;No&quot;</td><td>&quot;Sun&quot;</td><td>&quot;Dinner&quot;</td><td>4</td><td>14.680765</td><td>16.649074</td></tr></tbody></table></div>"
      ],
      "text/plain": [
       "shape: (5, 9)\n",
       "┌────────────┬──────┬────────┬────────┬───┬────────┬──────┬─────────────┬────────────────────┐\n",
       "│ total_bill ┆ tip  ┆ sex    ┆ smoker ┆ … ┆ time   ┆ size ┆ tip_percent ┆ mean_tip_by_gender │\n",
       "│ ---        ┆ ---  ┆ ---    ┆ ---    ┆   ┆ ---    ┆ ---  ┆ ---         ┆ ---                │\n",
       "│ f64        ┆ f64  ┆ str    ┆ str    ┆   ┆ str    ┆ i64  ┆ f64         ┆ f64                │\n",
       "╞════════════╪══════╪════════╪════════╪═══╪════════╪══════╪═════════════╪════════════════════╡\n",
       "│ 16.99      ┆ 1.01 ┆ Female ┆ No     ┆ … ┆ Dinner ┆ 2    ┆ 5.944673    ┆ 16.649074          │\n",
       "│ 10.34      ┆ 1.66 ┆ Male   ┆ No     ┆ … ┆ Dinner ┆ 3    ┆ 16.054159   ┆ 15.765055          │\n",
       "│ 21.01      ┆ 3.5  ┆ Male   ┆ No     ┆ … ┆ Dinner ┆ 3    ┆ 16.658734   ┆ 15.765055          │\n",
       "│ 23.68      ┆ 3.31 ┆ Male   ┆ No     ┆ … ┆ Dinner ┆ 2    ┆ 13.978041   ┆ 15.765055          │\n",
       "│ 24.59      ┆ 3.61 ┆ Female ┆ No     ┆ … ┆ Dinner ┆ 4    ┆ 14.680765   ┆ 16.649074          │\n",
       "└────────────┴──────┴────────┴────────┴───┴────────┴──────┴─────────────┴────────────────────┘"
      ]
     },
     "execution_count": 104,
     "metadata": {},
     "output_type": "execute_result"
    }
   ],
   "source": [
    "#calculating the mean tip percenrage BY gender..\n",
    "\n",
    "df.with_columns([\n",
    "    pl.col(\"tip_percent\").mean().over(\"sex\").alias(\"mean_tip_by_gender\")\n",
    "    ]).head()\n"
   ]
  },
  {
   "cell_type": "code",
   "execution_count": 107,
   "metadata": {},
   "outputs": [
    {
     "data": {
      "text/html": [
       "<div><style>\n",
       ".dataframe > thead > tr,\n",
       ".dataframe > tbody > tr {\n",
       "  text-align: right;\n",
       "  white-space: pre-wrap;\n",
       "}\n",
       "</style>\n",
       "<small>shape: (5, 9)</small><table border=\"1\" class=\"dataframe\"><thead><tr><th>total_bill</th><th>tip</th><th>sex</th><th>smoker</th><th>day</th><th>time</th><th>size</th><th>tip_percent</th><th>mean_tip_by_size</th></tr><tr><td>f64</td><td>f64</td><td>str</td><td>str</td><td>str</td><td>str</td><td>i64</td><td>f64</td><td>f64</td></tr></thead><tbody><tr><td>16.99</td><td>1.01</td><td>&quot;Female&quot;</td><td>&quot;No&quot;</td><td>&quot;Sun&quot;</td><td>&quot;Dinner&quot;</td><td>2</td><td>5.944673</td><td>16.571919</td></tr><tr><td>10.34</td><td>1.66</td><td>&quot;Male&quot;</td><td>&quot;No&quot;</td><td>&quot;Sun&quot;</td><td>&quot;Dinner&quot;</td><td>3</td><td>16.054159</td><td>15.215685</td></tr><tr><td>21.01</td><td>3.5</td><td>&quot;Male&quot;</td><td>&quot;No&quot;</td><td>&quot;Sun&quot;</td><td>&quot;Dinner&quot;</td><td>3</td><td>16.658734</td><td>15.215685</td></tr><tr><td>23.68</td><td>3.31</td><td>&quot;Male&quot;</td><td>&quot;No&quot;</td><td>&quot;Sun&quot;</td><td>&quot;Dinner&quot;</td><td>2</td><td>13.978041</td><td>16.571919</td></tr><tr><td>24.59</td><td>3.61</td><td>&quot;Female&quot;</td><td>&quot;No&quot;</td><td>&quot;Sun&quot;</td><td>&quot;Dinner&quot;</td><td>4</td><td>14.680765</td><td>14.594901</td></tr></tbody></table></div>"
      ],
      "text/plain": [
       "shape: (5, 9)\n",
       "┌────────────┬──────┬────────┬────────┬───┬────────┬──────┬─────────────┬──────────────────┐\n",
       "│ total_bill ┆ tip  ┆ sex    ┆ smoker ┆ … ┆ time   ┆ size ┆ tip_percent ┆ mean_tip_by_size │\n",
       "│ ---        ┆ ---  ┆ ---    ┆ ---    ┆   ┆ ---    ┆ ---  ┆ ---         ┆ ---              │\n",
       "│ f64        ┆ f64  ┆ str    ┆ str    ┆   ┆ str    ┆ i64  ┆ f64         ┆ f64              │\n",
       "╞════════════╪══════╪════════╪════════╪═══╪════════╪══════╪═════════════╪══════════════════╡\n",
       "│ 16.99      ┆ 1.01 ┆ Female ┆ No     ┆ … ┆ Dinner ┆ 2    ┆ 5.944673    ┆ 16.571919        │\n",
       "│ 10.34      ┆ 1.66 ┆ Male   ┆ No     ┆ … ┆ Dinner ┆ 3    ┆ 16.054159   ┆ 15.215685        │\n",
       "│ 21.01      ┆ 3.5  ┆ Male   ┆ No     ┆ … ┆ Dinner ┆ 3    ┆ 16.658734   ┆ 15.215685        │\n",
       "│ 23.68      ┆ 3.31 ┆ Male   ┆ No     ┆ … ┆ Dinner ┆ 2    ┆ 13.978041   ┆ 16.571919        │\n",
       "│ 24.59      ┆ 3.61 ┆ Female ┆ No     ┆ … ┆ Dinner ┆ 4    ┆ 14.680765   ┆ 14.594901        │\n",
       "└────────────┴──────┴────────┴────────┴───┴────────┴──────┴─────────────┴──────────────────┘"
      ]
     },
     "execution_count": 107,
     "metadata": {},
     "output_type": "execute_result"
    }
   ],
   "source": [
    "#calculating the mean tip percenrage BY size of table..\n",
    "\n",
    "df.with_columns([\n",
    "    pl.col(\"tip_percent\").mean().over(\"size\").alias(\"mean_tip_by_size\")\n",
    "]).head()"
   ]
  },
  {
   "cell_type": "markdown",
   "metadata": {},
   "source": [
    "### GROUP-BY\n",
    "\n",
    "For this we will be working with a large data set (5 GBs) (downloaded from kaggle)."
   ]
  },
  {
   "cell_type": "code",
   "execution_count": 48,
   "metadata": {},
   "outputs": [],
   "source": [
    "df = pl.read_csv(\"practiceData/2019-Nov.csv\")"
   ]
  },
  {
   "cell_type": "code",
   "execution_count": 49,
   "metadata": {},
   "outputs": [],
   "source": [
    "dfpanda = pd.read_csv(\"practiceData/2019-Nov.csv\")"
   ]
  },
  {
   "cell_type": "markdown",
   "metadata": {},
   "source": [
    "Note the difference in how long it takes to read the csv for both libraries (polars is <b>much</b> faster)"
   ]
  },
  {
   "cell_type": "code",
   "execution_count": 114,
   "metadata": {},
   "outputs": [
    {
     "data": {
      "text/html": [
       "<div><style>\n",
       ".dataframe > thead > tr,\n",
       ".dataframe > tbody > tr {\n",
       "  text-align: right;\n",
       "  white-space: pre-wrap;\n",
       "}\n",
       "</style>\n",
       "<small>shape: (5, 9)</small><table border=\"1\" class=\"dataframe\"><thead><tr><th>event_time</th><th>event_type</th><th>product_id</th><th>category_id</th><th>category_code</th><th>brand</th><th>price</th><th>user_id</th><th>user_session</th></tr><tr><td>str</td><td>str</td><td>i64</td><td>i64</td><td>str</td><td>str</td><td>f64</td><td>i64</td><td>str</td></tr></thead><tbody><tr><td>&quot;2019-11-01&nbsp;00:00:00&nbsp;UTC&quot;</td><td>&quot;view&quot;</td><td>1003461</td><td>2053013555631882655</td><td>&quot;electronics.smartphone&quot;</td><td>&quot;xiaomi&quot;</td><td>489.07</td><td>520088904</td><td>&quot;4d3b30da-a5e4-49df-b1a8-ba5943…</td></tr><tr><td>&quot;2019-11-01&nbsp;00:00:00&nbsp;UTC&quot;</td><td>&quot;view&quot;</td><td>5000088</td><td>2053013566100866035</td><td>&quot;appliances.sewing_machine&quot;</td><td>&quot;janome&quot;</td><td>293.65</td><td>530496790</td><td>&quot;8e5f4f83-366c-4f70-860e-ca7417…</td></tr><tr><td>&quot;2019-11-01&nbsp;00:00:01&nbsp;UTC&quot;</td><td>&quot;view&quot;</td><td>17302664</td><td>2053013553853497655</td><td>null</td><td>&quot;creed&quot;</td><td>28.31</td><td>561587266</td><td>&quot;755422e7-9040-477b-9bd2-6a6e8f…</td></tr><tr><td>&quot;2019-11-01&nbsp;00:00:01&nbsp;UTC&quot;</td><td>&quot;view&quot;</td><td>3601530</td><td>2053013563810775923</td><td>&quot;appliances.kitchen.washer&quot;</td><td>&quot;lg&quot;</td><td>712.87</td><td>518085591</td><td>&quot;3bfb58cd-7892-48cc-8020-2f17e6…</td></tr><tr><td>&quot;2019-11-01&nbsp;00:00:01&nbsp;UTC&quot;</td><td>&quot;view&quot;</td><td>1004775</td><td>2053013555631882655</td><td>&quot;electronics.smartphone&quot;</td><td>&quot;xiaomi&quot;</td><td>183.27</td><td>558856683</td><td>&quot;313628f1-68b8-460d-84f6-cec7a8…</td></tr></tbody></table></div>"
      ],
      "text/plain": [
       "shape: (5, 9)\n",
       "┌────────────┬────────────┬────────────┬────────────┬───┬────────┬────────┬───────────┬────────────┐\n",
       "│ event_time ┆ event_type ┆ product_id ┆ category_i ┆ … ┆ brand  ┆ price  ┆ user_id   ┆ user_sessi │\n",
       "│ ---        ┆ ---        ┆ ---        ┆ d          ┆   ┆ ---    ┆ ---    ┆ ---       ┆ on         │\n",
       "│ str        ┆ str        ┆ i64        ┆ ---        ┆   ┆ str    ┆ f64    ┆ i64       ┆ ---        │\n",
       "│            ┆            ┆            ┆ i64        ┆   ┆        ┆        ┆           ┆ str        │\n",
       "╞════════════╪════════════╪════════════╪════════════╪═══╪════════╪════════╪═══════════╪════════════╡\n",
       "│ 2019-11-01 ┆ view       ┆ 1003461    ┆ 2053013555 ┆ … ┆ xiaomi ┆ 489.07 ┆ 520088904 ┆ 4d3b30da-a │\n",
       "│ 00:00:00   ┆            ┆            ┆ 631882655  ┆   ┆        ┆        ┆           ┆ 5e4-49df-b │\n",
       "│ UTC        ┆            ┆            ┆            ┆   ┆        ┆        ┆           ┆ 1a8-ba5943 │\n",
       "│            ┆            ┆            ┆            ┆   ┆        ┆        ┆           ┆ …          │\n",
       "│ 2019-11-01 ┆ view       ┆ 5000088    ┆ 2053013566 ┆ … ┆ janome ┆ 293.65 ┆ 530496790 ┆ 8e5f4f83-3 │\n",
       "│ 00:00:00   ┆            ┆            ┆ 100866035  ┆   ┆        ┆        ┆           ┆ 66c-4f70-8 │\n",
       "│ UTC        ┆            ┆            ┆            ┆   ┆        ┆        ┆           ┆ 60e-ca7417 │\n",
       "│            ┆            ┆            ┆            ┆   ┆        ┆        ┆           ┆ …          │\n",
       "│ 2019-11-01 ┆ view       ┆ 17302664   ┆ 2053013553 ┆ … ┆ creed  ┆ 28.31  ┆ 561587266 ┆ 755422e7-9 │\n",
       "│ 00:00:01   ┆            ┆            ┆ 853497655  ┆   ┆        ┆        ┆           ┆ 040-477b-9 │\n",
       "│ UTC        ┆            ┆            ┆            ┆   ┆        ┆        ┆           ┆ bd2-6a6e8f │\n",
       "│            ┆            ┆            ┆            ┆   ┆        ┆        ┆           ┆ …          │\n",
       "│ 2019-11-01 ┆ view       ┆ 3601530    ┆ 2053013563 ┆ … ┆ lg     ┆ 712.87 ┆ 518085591 ┆ 3bfb58cd-7 │\n",
       "│ 00:00:01   ┆            ┆            ┆ 810775923  ┆   ┆        ┆        ┆           ┆ 892-48cc-8 │\n",
       "│ UTC        ┆            ┆            ┆            ┆   ┆        ┆        ┆           ┆ 020-2f17e6 │\n",
       "│            ┆            ┆            ┆            ┆   ┆        ┆        ┆           ┆ …          │\n",
       "│ 2019-11-01 ┆ view       ┆ 1004775    ┆ 2053013555 ┆ … ┆ xiaomi ┆ 183.27 ┆ 558856683 ┆ 313628f1-6 │\n",
       "│ 00:00:01   ┆            ┆            ┆ 631882655  ┆   ┆        ┆        ┆           ┆ 8b8-460d-8 │\n",
       "│ UTC        ┆            ┆            ┆            ┆   ┆        ┆        ┆           ┆ 4f6-cec7a8 │\n",
       "│            ┆            ┆            ┆            ┆   ┆        ┆        ┆           ┆ …          │\n",
       "└────────────┴────────────┴────────────┴────────────┴───┴────────┴────────┴───────────┴────────────┘"
      ]
     },
     "execution_count": 114,
     "metadata": {},
     "output_type": "execute_result"
    }
   ],
   "source": [
    "df.head()"
   ]
  },
  {
   "cell_type": "code",
   "execution_count": null,
   "metadata": {},
   "outputs": [
    {
     "name": "stderr",
     "output_type": "stream",
     "text": [
      "/var/folders/3m/17tpc1t17f75wznjzr3gj22w0000gn/T/ipykernel_69363/1575822256.py:2: DeprecationWarning: `pl.count()` is deprecated. Please use `pl.len()` instead.\n",
      "  pl.count()\n"
     ]
    },
    {
     "data": {
      "text/html": [
       "<div><style>\n",
       ".dataframe > thead > tr,\n",
       ".dataframe > tbody > tr {\n",
       "  text-align: right;\n",
       "  white-space: pre-wrap;\n",
       "}\n",
       "</style>\n",
       "<small>shape: (5, 2)</small><table border=\"1\" class=\"dataframe\"><thead><tr><th>brand</th><th>count</th></tr><tr><td>str</td><td>u32</td></tr></thead><tbody><tr><td>&quot;colourpop&quot;</td><td>1507</td></tr><tr><td>&quot;shoesrepublic&quot;</td><td>325</td></tr><tr><td>&quot;promountain&quot;</td><td>217</td></tr><tr><td>&quot;arcancilparis&quot;</td><td>34</td></tr><tr><td>&quot;autojet&quot;</td><td>264</td></tr></tbody></table></div>"
      ],
      "text/plain": [
       "shape: (5, 2)\n",
       "┌───────────────┬───────┐\n",
       "│ brand         ┆ count │\n",
       "│ ---           ┆ ---   │\n",
       "│ str           ┆ u32   │\n",
       "╞═══════════════╪═══════╡\n",
       "│ colourpop     ┆ 1507  │\n",
       "│ shoesrepublic ┆ 325   │\n",
       "│ promountain   ┆ 217   │\n",
       "│ arcancilparis ┆ 34    │\n",
       "│ autojet       ┆ 264   │\n",
       "└───────────────┴───────┘"
      ]
     },
     "execution_count": 111,
     "metadata": {},
     "output_type": "execute_result"
    }
   ],
   "source": [
    "df.group_by(\"brand\").agg([\n",
    "    pl.count()\n",
    "]).head() #groups by the brand column and counts how mant "
   ]
  },
  {
   "cell_type": "code",
   "execution_count": 121,
   "metadata": {},
   "outputs": [
    {
     "data": {
      "text/html": [
       "<div>\n",
       "<style scoped>\n",
       "    .dataframe tbody tr th:only-of-type {\n",
       "        vertical-align: middle;\n",
       "    }\n",
       "\n",
       "    .dataframe tbody tr th {\n",
       "        vertical-align: top;\n",
       "    }\n",
       "\n",
       "    .dataframe thead th {\n",
       "        text-align: right;\n",
       "    }\n",
       "</style>\n",
       "<table border=\"1\" class=\"dataframe\">\n",
       "  <thead>\n",
       "    <tr style=\"text-align: right;\">\n",
       "      <th></th>\n",
       "      <th>brand</th>\n",
       "    </tr>\n",
       "    <tr>\n",
       "      <th>brand</th>\n",
       "      <th></th>\n",
       "    </tr>\n",
       "  </thead>\n",
       "  <tbody>\n",
       "    <tr>\n",
       "      <th>a-case</th>\n",
       "      <td>12647</td>\n",
       "    </tr>\n",
       "    <tr>\n",
       "      <th>a-derma</th>\n",
       "      <td>431</td>\n",
       "    </tr>\n",
       "    <tr>\n",
       "      <th>a-elita</th>\n",
       "      <td>320</td>\n",
       "    </tr>\n",
       "    <tr>\n",
       "      <th>a-mega</th>\n",
       "      <td>833</td>\n",
       "    </tr>\n",
       "    <tr>\n",
       "      <th>aardwolf</th>\n",
       "      <td>478</td>\n",
       "    </tr>\n",
       "  </tbody>\n",
       "</table>\n",
       "</div>"
      ],
      "text/plain": [
       "          brand\n",
       "brand          \n",
       "a-case    12647\n",
       "a-derma     431\n",
       "a-elita     320\n",
       "a-mega      833\n",
       "aardwolf    478"
      ]
     },
     "execution_count": 121,
     "metadata": {},
     "output_type": "execute_result"
    }
   ],
   "source": [
    "#In pandas the operation wouldn't look too dissimilar\n",
    "\n",
    "dfpanda.groupby(\"brand\").agg({\"brand\":\"count\"}).head() #we specifify a column we want and name the column that counts\n",
    "\n",
    "#faster at this than polars (why??), and why does it look like that"
   ]
  },
  {
   "cell_type": "markdown",
   "metadata": {},
   "source": [
    "#### Sorting"
   ]
  },
  {
   "cell_type": "code",
   "execution_count": null,
   "metadata": {},
   "outputs": [
    {
     "name": "stderr",
     "output_type": "stream",
     "text": [
      "/var/folders/3m/17tpc1t17f75wznjzr3gj22w0000gn/T/ipykernel_353/1434869700.py:2: DeprecationWarning: `pl.count()` is deprecated. Please use `pl.len()` instead.\n",
      "  pl.count()\n"
     ]
    },
    {
     "data": {
      "text/html": [
       "<div><style>\n",
       ".dataframe > thead > tr,\n",
       ".dataframe > tbody > tr {\n",
       "  text-align: right;\n",
       "  white-space: pre-wrap;\n",
       "}\n",
       "</style>\n",
       "<small>shape: (5, 2)</small><table border=\"1\" class=\"dataframe\"><thead><tr><th>brand</th><th>count</th></tr><tr><td>str</td><td>u32</td></tr></thead><tbody><tr><td>null</td><td>9218235</td></tr><tr><td>&quot;samsung&quot;</td><td>7889245</td></tr><tr><td>&quot;apple&quot;</td><td>6259379</td></tr><tr><td>&quot;xiaomi&quot;</td><td>4638062</td></tr><tr><td>&quot;huawei&quot;</td><td>1410126</td></tr></tbody></table></div>"
      ],
      "text/plain": [
       "shape: (5, 2)\n",
       "┌─────────┬─────────┐\n",
       "│ brand   ┆ count   │\n",
       "│ ---     ┆ ---     │\n",
       "│ str     ┆ u32     │\n",
       "╞═════════╪═════════╡\n",
       "│ null    ┆ 9218235 │\n",
       "│ samsung ┆ 7889245 │\n",
       "│ apple   ┆ 6259379 │\n",
       "│ xiaomi  ┆ 4638062 │\n",
       "│ huawei  ┆ 1410126 │\n",
       "└─────────┴─────────┘"
      ]
     },
     "execution_count": 11,
     "metadata": {},
     "output_type": "execute_result"
    }
   ],
   "source": [
    "df.group_by(\"brand\").agg([\n",
    "    pl.count()\n",
    "]).sort(\"count\").reverse().head() #sorts by count and then reverses it to get it in descending order "
   ]
  },
  {
   "cell_type": "code",
   "execution_count": null,
   "metadata": {},
   "outputs": [
    {
     "name": "stderr",
     "output_type": "stream",
     "text": [
      "/var/folders/3m/17tpc1t17f75wznjzr3gj22w0000gn/T/ipykernel_353/2802681226.py:5: DeprecationWarning: `pl.count()` is deprecated. Please use `pl.len()` instead.\n",
      "  pl.count()\n"
     ]
    },
    {
     "data": {
      "text/html": [
       "<div><style>\n",
       ".dataframe > thead > tr,\n",
       ".dataframe > tbody > tr {\n",
       "  text-align: right;\n",
       "  white-space: pre-wrap;\n",
       "}\n",
       "</style>\n",
       "<small>shape: (10, 3)</small><table border=\"1\" class=\"dataframe\"><thead><tr><th>brand</th><th>count</th><th>percent</th></tr><tr><td>str</td><td>u32</td><td>f64</td></tr></thead><tbody><tr><td>null</td><td>9218235</td><td>0.136562</td></tr><tr><td>&quot;samsung&quot;</td><td>7889245</td><td>0.116874</td></tr><tr><td>&quot;apple&quot;</td><td>6259379</td><td>0.092729</td></tr><tr><td>&quot;xiaomi&quot;</td><td>4638062</td><td>0.06871</td></tr><tr><td>&quot;huawei&quot;</td><td>1410126</td><td>0.02089</td></tr><tr><td>&quot;lucente&quot;</td><td>1185075</td><td>0.017556</td></tr><tr><td>&quot;lg&quot;</td><td>1096990</td><td>0.016251</td></tr><tr><td>&quot;bosch&quot;</td><td>975059</td><td>0.014445</td></tr><tr><td>&quot;oppo&quot;</td><td>811698</td><td>0.012025</td></tr><tr><td>&quot;sony&quot;</td><td>798457</td><td>0.011829</td></tr></tbody></table></div>"
      ],
      "text/plain": [
       "shape: (10, 3)\n",
       "┌─────────┬─────────┬──────────┐\n",
       "│ brand   ┆ count   ┆ percent  │\n",
       "│ ---     ┆ ---     ┆ ---      │\n",
       "│ str     ┆ u32     ┆ f64      │\n",
       "╞═════════╪═════════╪══════════╡\n",
       "│ null    ┆ 9218235 ┆ 0.136562 │\n",
       "│ samsung ┆ 7889245 ┆ 0.116874 │\n",
       "│ apple   ┆ 6259379 ┆ 0.092729 │\n",
       "│ xiaomi  ┆ 4638062 ┆ 0.06871  │\n",
       "│ huawei  ┆ 1410126 ┆ 0.02089  │\n",
       "│ lucente ┆ 1185075 ┆ 0.017556 │\n",
       "│ lg      ┆ 1096990 ┆ 0.016251 │\n",
       "│ bosch   ┆ 975059  ┆ 0.014445 │\n",
       "│ oppo    ┆ 811698  ┆ 0.012025 │\n",
       "│ sony    ┆ 798457  ┆ 0.011829 │\n",
       "└─────────┴─────────┴──────────┘"
      ]
     },
     "execution_count": 13,
     "metadata": {},
     "output_type": "execute_result"
    }
   ],
   "source": [
    "#Computing the count and percent of instances in ONE  call\n",
    "\n",
    "(\n",
    "    df.group_by(\"brand\").agg([\n",
    "        pl.count()\n",
    "    ])\n",
    "    .sort(\"count\").reverse() #original call\n",
    "    .with_columns([\n",
    "        (pl.col(\"count\") / pl.col(\"count\").sum()).alias(\"percent\") #calcs percent\n",
    "    ])\n",
    "    .head(10) #gets us the top 10 results\n",
    ")\n",
    "\n",
    "#Readable and easy to use (comapred to pandas)"
   ]
  },
  {
   "cell_type": "markdown",
   "metadata": {},
   "source": [
    "#### Value counts: counts unique values of a column"
   ]
  },
  {
   "cell_type": "code",
   "execution_count": 14,
   "metadata": {},
   "outputs": [
    {
     "data": {
      "text/html": [
       "<div><style>\n",
       ".dataframe > thead > tr,\n",
       ".dataframe > tbody > tr {\n",
       "  text-align: right;\n",
       "  white-space: pre-wrap;\n",
       "}\n",
       "</style>\n",
       "<small>shape: (3, 2)</small><table border=\"1\" class=\"dataframe\"><thead><tr><th>event_type</th><th>count</th></tr><tr><td>str</td><td>u32</td></tr></thead><tbody><tr><td>&quot;view&quot;</td><td>63556110</td></tr><tr><td>&quot;purchase&quot;</td><td>916939</td></tr><tr><td>&quot;cart&quot;</td><td>3028930</td></tr></tbody></table></div>"
      ],
      "text/plain": [
       "shape: (3, 2)\n",
       "┌────────────┬──────────┐\n",
       "│ event_type ┆ count    │\n",
       "│ ---        ┆ ---      │\n",
       "│ str        ┆ u32      │\n",
       "╞════════════╪══════════╡\n",
       "│ view       ┆ 63556110 │\n",
       "│ purchase   ┆ 916939   │\n",
       "│ cart       ┆ 3028930  │\n",
       "└────────────┴──────────┘"
      ]
     },
     "execution_count": 14,
     "metadata": {},
     "output_type": "execute_result"
    }
   ],
   "source": [
    "df['event_type'].value_counts()"
   ]
  },
  {
   "cell_type": "markdown",
   "metadata": {},
   "source": [
    "Note that we can also calculate that by doing a groupby call on the event_type column and using pl.count in the aggregate function, like so:"
   ]
  },
  {
   "cell_type": "code",
   "execution_count": null,
   "metadata": {},
   "outputs": [
    {
     "name": "stderr",
     "output_type": "stream",
     "text": [
      "/var/folders/3m/17tpc1t17f75wznjzr3gj22w0000gn/T/ipykernel_353/683521352.py:1: DeprecationWarning: `pl.count()` is deprecated. Please use `pl.len()` instead.\n",
      "  df.group_by('event_type').agg(pl.count())\n"
     ]
    },
    {
     "data": {
      "text/html": [
       "<div><style>\n",
       ".dataframe > thead > tr,\n",
       ".dataframe > tbody > tr {\n",
       "  text-align: right;\n",
       "  white-space: pre-wrap;\n",
       "}\n",
       "</style>\n",
       "<small>shape: (3, 2)</small><table border=\"1\" class=\"dataframe\"><thead><tr><th>event_type</th><th>count</th></tr><tr><td>str</td><td>u32</td></tr></thead><tbody><tr><td>&quot;cart&quot;</td><td>3028930</td></tr><tr><td>&quot;purchase&quot;</td><td>916939</td></tr><tr><td>&quot;view&quot;</td><td>63556110</td></tr></tbody></table></div>"
      ],
      "text/plain": [
       "shape: (3, 2)\n",
       "┌────────────┬──────────┐\n",
       "│ event_type ┆ count    │\n",
       "│ ---        ┆ ---      │\n",
       "│ str        ┆ u32      │\n",
       "╞════════════╪══════════╡\n",
       "│ cart       ┆ 3028930  │\n",
       "│ purchase   ┆ 916939   │\n",
       "│ view       ┆ 63556110 │\n",
       "└────────────┴──────────┘"
      ]
     },
     "execution_count": 16,
     "metadata": {},
     "output_type": "execute_result"
    }
   ],
   "source": [
    "df.group_by('event_type').agg(pl.count())\n",
    "\n",
    "#note that though more verbose it runs quicker (why??)"
   ]
  },
  {
   "cell_type": "markdown",
   "metadata": {},
   "source": [
    "#### Group-by with 2 more or groups"
   ]
  },
  {
   "cell_type": "code",
   "execution_count": 24,
   "metadata": {},
   "outputs": [
    {
     "name": "stderr",
     "output_type": "stream",
     "text": [
      "/var/folders/3m/17tpc1t17f75wznjzr3gj22w0000gn/T/ipykernel_353/611383338.py:2: DeprecationWarning: `pl.count()` is deprecated. Please use `pl.len()` instead.\n",
      "  pl.count()\n"
     ]
    }
   ],
   "source": [
    "df_brand_event = df.group_by([\"brand\", \"event_type\"]).agg([\n",
    "    pl.count()\n",
    "]) # made a new data frame that groups by 2 specific features and co"
   ]
  },
  {
   "cell_type": "code",
   "execution_count": 26,
   "metadata": {},
   "outputs": [
    {
     "data": {
      "text/html": [
       "<div><style>\n",
       ".dataframe > thead > tr,\n",
       ".dataframe > tbody > tr {\n",
       "  text-align: right;\n",
       "  white-space: pre-wrap;\n",
       "}\n",
       "</style>\n",
       "<small>shape: (5, 3)</small><table border=\"1\" class=\"dataframe\"><thead><tr><th>brand</th><th>event_type</th><th>count</th></tr><tr><td>str</td><td>str</td><td>u32</td></tr></thead><tbody><tr><td>&quot;orivel&quot;</td><td>&quot;purchase&quot;</td><td>1</td></tr><tr><td>&quot;sunday&quot;</td><td>&quot;purchase&quot;</td><td>2</td></tr><tr><td>&quot;farroad&quot;</td><td>&quot;cart&quot;</td><td>926</td></tr><tr><td>&quot;caramelia&quot;</td><td>&quot;view&quot;</td><td>16847</td></tr><tr><td>&quot;sospiro&quot;</td><td>&quot;view&quot;</td><td>291</td></tr></tbody></table></div>"
      ],
      "text/plain": [
       "shape: (5, 3)\n",
       "┌───────────┬────────────┬───────┐\n",
       "│ brand     ┆ event_type ┆ count │\n",
       "│ ---       ┆ ---        ┆ ---   │\n",
       "│ str       ┆ str        ┆ u32   │\n",
       "╞═══════════╪════════════╪═══════╡\n",
       "│ orivel    ┆ purchase   ┆ 1     │\n",
       "│ sunday    ┆ purchase   ┆ 2     │\n",
       "│ farroad   ┆ cart       ┆ 926   │\n",
       "│ caramelia ┆ view       ┆ 16847 │\n",
       "│ sospiro   ┆ view       ┆ 291   │\n",
       "└───────────┴────────────┴───────┘"
      ]
     },
     "execution_count": 26,
     "metadata": {},
     "output_type": "execute_result"
    }
   ],
   "source": [
    "df_brand_event.head()"
   ]
  },
  {
   "cell_type": "markdown",
   "metadata": {},
   "source": [
    "Now.. what if we want the event type to be the column, so our table is easier to read\n",
    "\n",
    "We would use the pivot function to reshape our dataframe, this is useful if our table isn't showing exactly what we want it to show or not doing so clearly."
   ]
  },
  {
   "cell_type": "code",
   "execution_count": 27,
   "metadata": {},
   "outputs": [
    {
     "name": "stderr",
     "output_type": "stream",
     "text": [
      "/var/folders/3m/17tpc1t17f75wznjzr3gj22w0000gn/T/ipykernel_353/2172040839.py:1: DeprecationWarning: The argument `columns` for `DataFrame.pivot` is deprecated. It has been renamed to `on`.\n",
      "  df_brand_event_wide = df_brand_event.pivot(values=\"count\",\n"
     ]
    },
    {
     "data": {
      "text/html": [
       "<div><style>\n",
       ".dataframe > thead > tr,\n",
       ".dataframe > tbody > tr {\n",
       "  text-align: right;\n",
       "  white-space: pre-wrap;\n",
       "}\n",
       "</style>\n",
       "<small>shape: (5, 4)</small><table border=\"1\" class=\"dataframe\"><thead><tr><th>brand</th><th>purchase</th><th>cart</th><th>view</th></tr><tr><td>str</td><td>u32</td><td>u32</td><td>u32</td></tr></thead><tbody><tr><td>&quot;orivel&quot;</td><td>1</td><td>1</td><td>105</td></tr><tr><td>&quot;sunday&quot;</td><td>2</td><td>13</td><td>1031</td></tr><tr><td>&quot;farroad&quot;</td><td>236</td><td>926</td><td>13415</td></tr><tr><td>&quot;caramelia&quot;</td><td>117</td><td>325</td><td>16847</td></tr><tr><td>&quot;sospiro&quot;</td><td>1</td><td>4</td><td>291</td></tr></tbody></table></div>"
      ],
      "text/plain": [
       "shape: (5, 4)\n",
       "┌───────────┬──────────┬──────┬───────┐\n",
       "│ brand     ┆ purchase ┆ cart ┆ view  │\n",
       "│ ---       ┆ ---      ┆ ---  ┆ ---   │\n",
       "│ str       ┆ u32      ┆ u32  ┆ u32   │\n",
       "╞═══════════╪══════════╪══════╪═══════╡\n",
       "│ orivel    ┆ 1        ┆ 1    ┆ 105   │\n",
       "│ sunday    ┆ 2        ┆ 13   ┆ 1031  │\n",
       "│ farroad   ┆ 236      ┆ 926  ┆ 13415 │\n",
       "│ caramelia ┆ 117      ┆ 325  ┆ 16847 │\n",
       "│ sospiro   ┆ 1        ┆ 4    ┆ 291   │\n",
       "└───────────┴──────────┴──────┴───────┘"
      ]
     },
     "execution_count": 27,
     "metadata": {},
     "output_type": "execute_result"
    }
   ],
   "source": [
    "df_brand_event_wide = df_brand_event.pivot(values=\"count\",\n",
    "                                            index=[\"brand\"],\n",
    "                                            columns=[\"event_type\"])\n",
    "\n",
    "df_brand_event_wide.head()"
   ]
  },
  {
   "cell_type": "markdown",
   "metadata": {},
   "source": [
    "Now we can read this table better and be able to draw more conclusions (are certain brands purchased more compared to how much they're viewed, etc)."
   ]
  }
 ],
 "metadata": {
  "kernelspec": {
   "display_name": "Python 3",
   "language": "python",
   "name": "python3"
  },
  "language_info": {
   "codemirror_mode": {
    "name": "ipython",
    "version": 3
   },
   "file_extension": ".py",
   "mimetype": "text/x-python",
   "name": "python",
   "nbconvert_exporter": "python",
   "pygments_lexer": "ipython3",
   "version": "3.11.2"
  }
 },
 "nbformat": 4,
 "nbformat_minor": 2
}
