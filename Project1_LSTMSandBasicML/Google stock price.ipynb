{
 "cells": [
  {
   "cell_type": "code",
   "execution_count": 2,
   "metadata": {},
   "outputs": [],
   "source": [
    "import numpy as np \n",
    "import pandas as pd \n",
    "import matplotlib.pyplot as plt \n",
    "from sklearn.preprocessing import MinMaxScaler\n",
    "from keras.models import Sequential\n",
    "from keras.layers import Dense,LSTM,Dropout"
   ]
  },
  {
   "cell_type": "code",
   "execution_count": 3,
   "metadata": {},
   "outputs": [
    {
     "data": {
      "text/html": [
       "<div>\n",
       "<style scoped>\n",
       "    .dataframe tbody tr th:only-of-type {\n",
       "        vertical-align: middle;\n",
       "    }\n",
       "\n",
       "    .dataframe tbody tr th {\n",
       "        vertical-align: top;\n",
       "    }\n",
       "\n",
       "    .dataframe thead th {\n",
       "        text-align: right;\n",
       "    }\n",
       "</style>\n",
       "<table border=\"1\" class=\"dataframe\">\n",
       "  <thead>\n",
       "    <tr style=\"text-align: right;\">\n",
       "      <th></th>\n",
       "      <th>Date</th>\n",
       "      <th>Open</th>\n",
       "      <th>High</th>\n",
       "      <th>Low</th>\n",
       "      <th>Close</th>\n",
       "      <th>Volume</th>\n",
       "    </tr>\n",
       "  </thead>\n",
       "  <tbody>\n",
       "    <tr>\n",
       "      <th>0</th>\n",
       "      <td>1/3/2012</td>\n",
       "      <td>325.25</td>\n",
       "      <td>332.83</td>\n",
       "      <td>324.97</td>\n",
       "      <td>663.59</td>\n",
       "      <td>7,380,500</td>\n",
       "    </tr>\n",
       "    <tr>\n",
       "      <th>1</th>\n",
       "      <td>1/4/2012</td>\n",
       "      <td>331.27</td>\n",
       "      <td>333.87</td>\n",
       "      <td>329.08</td>\n",
       "      <td>666.45</td>\n",
       "      <td>5,749,400</td>\n",
       "    </tr>\n",
       "    <tr>\n",
       "      <th>2</th>\n",
       "      <td>1/5/2012</td>\n",
       "      <td>329.83</td>\n",
       "      <td>330.75</td>\n",
       "      <td>326.89</td>\n",
       "      <td>657.21</td>\n",
       "      <td>6,590,300</td>\n",
       "    </tr>\n",
       "    <tr>\n",
       "      <th>3</th>\n",
       "      <td>1/6/2012</td>\n",
       "      <td>328.34</td>\n",
       "      <td>328.77</td>\n",
       "      <td>323.68</td>\n",
       "      <td>648.24</td>\n",
       "      <td>5,405,900</td>\n",
       "    </tr>\n",
       "    <tr>\n",
       "      <th>4</th>\n",
       "      <td>1/9/2012</td>\n",
       "      <td>322.04</td>\n",
       "      <td>322.29</td>\n",
       "      <td>309.46</td>\n",
       "      <td>620.76</td>\n",
       "      <td>11,688,800</td>\n",
       "    </tr>\n",
       "  </tbody>\n",
       "</table>\n",
       "</div>"
      ],
      "text/plain": [
       "       Date    Open    High     Low   Close      Volume\n",
       "0  1/3/2012  325.25  332.83  324.97  663.59   7,380,500\n",
       "1  1/4/2012  331.27  333.87  329.08  666.45   5,749,400\n",
       "2  1/5/2012  329.83  330.75  326.89  657.21   6,590,300\n",
       "3  1/6/2012  328.34  328.77  323.68  648.24   5,405,900\n",
       "4  1/9/2012  322.04  322.29  309.46  620.76  11,688,800"
      ]
     },
     "execution_count": 3,
     "metadata": {},
     "output_type": "execute_result"
    }
   ],
   "source": [
    "data = pd.read_csv('Google_train_data.csv')\n",
    "data.head()"
   ]
  },
  {
   "cell_type": "code",
   "execution_count": 4,
   "metadata": {},
   "outputs": [
    {
     "name": "stdout",
     "output_type": "stream",
     "text": [
      "<class 'pandas.core.frame.DataFrame'>\n",
      "RangeIndex: 1258 entries, 0 to 1257\n",
      "Data columns (total 6 columns):\n",
      " #   Column  Non-Null Count  Dtype  \n",
      "---  ------  --------------  -----  \n",
      " 0   Date    1258 non-null   object \n",
      " 1   Open    1258 non-null   float64\n",
      " 2   High    1258 non-null   float64\n",
      " 3   Low     1258 non-null   float64\n",
      " 4   Close   1258 non-null   object \n",
      " 5   Volume  1258 non-null   object \n",
      "dtypes: float64(3), object(3)\n",
      "memory usage: 59.1+ KB\n"
     ]
    }
   ],
   "source": [
    "data.info()"
   ]
  },
  {
   "cell_type": "code",
   "execution_count": null,
   "metadata": {},
   "outputs": [
    {
     "data": {
      "text/plain": [
       "array([[663.59],\n",
       "       [666.45],\n",
       "       [657.21],\n",
       "       ...,\n",
       "       [785.05],\n",
       "       [782.79],\n",
       "       [771.82]])"
      ]
     },
     "execution_count": 42,
     "metadata": {},
     "output_type": "execute_result"
    }
   ],
   "source": [
    "data[\"Close\"]=pd.to_numeric(data.Close,errors='coerce')\n",
    "data = data.dropna()\n",
    "trainData = data.iloc[:,4:5].values"
   ]
  },
  {
   "cell_type": "code",
   "execution_count": 6,
   "metadata": {},
   "outputs": [
    {
     "name": "stdout",
     "output_type": "stream",
     "text": [
      "<class 'pandas.core.frame.DataFrame'>\n",
      "Index: 1149 entries, 0 to 1257\n",
      "Data columns (total 6 columns):\n",
      " #   Column  Non-Null Count  Dtype  \n",
      "---  ------  --------------  -----  \n",
      " 0   Date    1149 non-null   object \n",
      " 1   Open    1149 non-null   float64\n",
      " 2   High    1149 non-null   float64\n",
      " 3   Low     1149 non-null   float64\n",
      " 4   Close   1149 non-null   float64\n",
      " 5   Volume  1149 non-null   object \n",
      "dtypes: float64(4), object(2)\n",
      "memory usage: 62.8+ KB\n"
     ]
    }
   ],
   "source": [
    "data.info()"
   ]
  },
  {
   "cell_type": "code",
   "execution_count": 7,
   "metadata": {},
   "outputs": [
    {
     "data": {
      "text/plain": [
       "(1149, 1)"
      ]
     },
     "execution_count": 7,
     "metadata": {},
     "output_type": "execute_result"
    }
   ],
   "source": [
    "sc = MinMaxScaler(feature_range=(0,1))\n",
    "trainData = sc.fit_transform(trainData)\n",
    "trainData.shape"
   ]
  },
  {
   "cell_type": "code",
   "execution_count": 8,
   "metadata": {},
   "outputs": [
    {
     "name": "stdout",
     "output_type": "stream",
     "text": [
      "(1089, 60)\n",
      "[0.36065992 0.34406906 0.35722573 ... 0.68184982 0.67660572 0.65115092]\n"
     ]
    }
   ],
   "source": [
    "X_train = []\n",
    "y_train = []\n",
    "\n",
    "for i in range (60,1149): #60 : timestep // 1149 : length of the data\n",
    "    X_train.append(trainData[i-60:i,0]) \n",
    "    y_train.append(trainData[i,0])\n",
    "\n",
    "X_train,y_train = np.array(X_train),np.array(y_train)\n",
    "print(X_train.shape)\n",
    "print(y_train)"
   ]
  },
  {
   "cell_type": "code",
   "execution_count": 9,
   "metadata": {},
   "outputs": [
    {
     "data": {
      "text/plain": [
       "(1089, 60, 1)"
      ]
     },
     "execution_count": 9,
     "metadata": {},
     "output_type": "execute_result"
    }
   ],
   "source": [
    "X_train = np.reshape(X_train,(X_train.shape[0],X_train.shape[1],1)) #adding the batch_size axis\n",
    "X_train.shape"
   ]
  },
  {
   "cell_type": "code",
   "execution_count": null,
   "metadata": {},
   "outputs": [
    {
     "name": "stderr",
     "output_type": "stream",
     "text": [
      "/Library/Frameworks/Python.framework/Versions/3.11/lib/python3.11/site-packages/keras/src/layers/rnn/rnn.py:204: UserWarning: Do not pass an `input_shape`/`input_dim` argument to a layer. When using Sequential models, prefer using an `Input(shape)` object as the first layer in the model instead.\n",
      "  super().__init__(**kwargs)\n"
     ]
    }
   ],
   "source": [
    "model = Sequential()\n",
    "\n",
    "model.add(LSTM(units=100, return_sequences = True, input_shape =(X_train.shape[1],1)))\n",
    "model.add(Dropout(0.2))\n",
    "\n",
    "model.add(LSTM(units=100, return_sequences = True))\n",
    "model.add(Dropout(0.2))\n",
    "\n",
    "model.add(LSTM(units=100, return_sequences = True))\n",
    "model.add(Dropout(0.2))\n",
    "\n",
    "model.add(LSTM(units=100, return_sequences = False))\n",
    "model.add(Dropout(0.2))\n",
    "\n",
    "model.add(Dense(units =1))\n",
    "model.compile(optimizer='adam',loss=\"mean_squared_error\")"
   ]
  },
  {
   "cell_type": "code",
   "execution_count": 29,
   "metadata": {},
   "outputs": [
    {
     "name": "stdout",
     "output_type": "stream",
     "text": [
      "Epoch 1/20\n",
      "35/35 - 3s - 81ms/step - loss: 0.0769\n",
      "Epoch 2/20\n",
      "35/35 - 1s - 22ms/step - loss: 0.0321\n",
      "Epoch 3/20\n",
      "35/35 - 1s - 31ms/step - loss: 0.0211\n",
      "Epoch 4/20\n",
      "35/35 - 1s - 28ms/step - loss: 0.0236\n",
      "Epoch 5/20\n",
      "35/35 - 1s - 26ms/step - loss: 0.0188\n",
      "Epoch 6/20\n",
      "35/35 - 1s - 27ms/step - loss: 0.0198\n",
      "Epoch 7/20\n",
      "35/35 - 1s - 29ms/step - loss: 0.0183\n",
      "Epoch 8/20\n",
      "35/35 - 1s - 25ms/step - loss: 0.0182\n",
      "Epoch 9/20\n",
      "35/35 - 1s - 34ms/step - loss: 0.0154\n",
      "Epoch 10/20\n",
      "35/35 - 1s - 25ms/step - loss: 0.0158\n",
      "Epoch 11/20\n",
      "35/35 - 1s - 24ms/step - loss: 0.0165\n",
      "Epoch 12/20\n",
      "35/35 - 1s - 37ms/step - loss: 0.0159\n",
      "Epoch 13/20\n",
      "35/35 - 1s - 28ms/step - loss: 0.0131\n",
      "Epoch 14/20\n",
      "35/35 - 1s - 26ms/step - loss: 0.0147\n",
      "Epoch 15/20\n",
      "35/35 - 1s - 24ms/step - loss: 0.0146\n",
      "Epoch 16/20\n",
      "35/35 - 1s - 24ms/step - loss: 0.0155\n",
      "Epoch 17/20\n",
      "35/35 - 1s - 25ms/step - loss: 0.0121\n",
      "Epoch 18/20\n",
      "35/35 - 1s - 27ms/step - loss: 0.0127\n",
      "Epoch 19/20\n",
      "35/35 - 1s - 24ms/step - loss: 0.0134\n",
      "Epoch 20/20\n",
      "35/35 - 1s - 28ms/step - loss: 0.0123\n"
     ]
    }
   ],
   "source": [
    "hist = model.fit(X_train, y_train, epochs = 20, batch_size = 32, verbose=2)"
   ]
  },
  {
   "cell_type": "code",
   "execution_count": 30,
   "metadata": {},
   "outputs": [
    {
     "data": {
      "image/png": "[encoded data removed]",
      "text/plain": [
       "<Figure size 640x480 with 1 Axes>"
      ]
     },
     "metadata": {},
     "output_type": "display_data"
    }
   ],
   "source": [
    "plt.plot(hist.history['loss'])\n",
    "plt.title('Training model loss')\n",
    "plt.ylabel('loss')\n",
    "plt.xlabel('epoch')\n",
    "plt.legend(['train'], loc='upper left')\n",
    "plt.show()"
   ]
  },
  {
   "cell_type": "code",
   "execution_count": 31,
   "metadata": {},
   "outputs": [
    {
     "data": {
      "text/plain": [
       "(192, 60, 1)"
      ]
     },
     "execution_count": 31,
     "metadata": {},
     "output_type": "execute_result"
    }
   ],
   "source": [
    "testData = pd.read_csv('Google_test_data.csv')\n",
    "testData[\"Close\"]=pd.to_numeric(testData.Close,errors='coerce')\n",
    "testData = testData.dropna()\n",
    "testData = testData.iloc[:,4:5]\n",
    "y_test = testData.iloc[60:,0:].values \n",
    "#input array for the model\n",
    "inputClosing = testData.iloc[:,0:].values \n",
    "inputClosing_scaled = sc.transform(inputClosing)\n",
    "inputClosing_scaled.shape\n",
    "X_test = []\n",
    "length = len(testData)\n",
    "timestep = 60\n",
    "for i in range(timestep,length):  \n",
    "    X_test.append(inputClosing_scaled[i-timestep:i,0])\n",
    "X_test = np.array(X_test)\n",
    "X_test = np.reshape(X_test,(X_test.shape[0],X_test.shape[1],1))\n",
    "X_test.shape"
   ]
  },
  {
   "cell_type": "code",
   "execution_count": 32,
   "metadata": {},
   "outputs": [
    {
     "name": "stdout",
     "output_type": "stream",
     "text": [
      "\u001b[1m6/6\u001b[0m \u001b[32m━━━━━━━━━━━━━━━━━━━━\u001b[0m\u001b[37m\u001b[0m \u001b[1m0s\u001b[0m 7ms/step  \n"
     ]
    },
    {
     "data": {
      "text/plain": [
       "array([[1.1319232],\n",
       "       [1.1253821],\n",
       "       [1.1199312],\n",
       "       [1.1159517],\n",
       "       [1.1135013],\n",
       "       [1.1122056],\n",
       "       [1.1115583],\n",
       "       [1.1111653],\n",
       "       [1.1109488],\n",
       "       [1.1109232],\n",
       "       [1.1107395],\n",
       "       [1.1100826],\n",
       "       [1.1088586],\n",
       "       [1.1069695],\n",
       "       [1.1046385],\n",
       "       [1.1021433],\n",
       "       [1.100162 ],\n",
       "       [1.0993483],\n",
       "       [1.1001911],\n",
       "       [1.1030122],\n",
       "       [1.1073601],\n",
       "       [1.1126983],\n",
       "       [1.1182085],\n",
       "       [1.1231601],\n",
       "       [1.1271261],\n",
       "       [1.130011 ],\n",
       "       [1.1318833],\n",
       "       [1.1327199],\n",
       "       [1.1322908],\n",
       "       [1.1305139],\n",
       "       [1.1273925],\n",
       "       [1.1229036],\n",
       "       [1.1168065],\n",
       "       [1.1089015],\n",
       "       [1.0998311],\n",
       "       [1.0905612],\n",
       "       [1.0819664],\n",
       "       [1.0747102],\n",
       "       [1.0693147],\n",
       "       [1.0657539],\n",
       "       [1.0643247],\n",
       "       [1.0652075],\n",
       "       [1.068439 ],\n",
       "       [1.0738393],\n",
       "       [1.0809907],\n",
       "       [1.0892218],\n",
       "       [1.097735 ],\n",
       "       [1.1060917],\n",
       "       [1.1140649],\n",
       "       [1.1216112],\n",
       "       [1.1287974],\n",
       "       [1.1354569],\n",
       "       [1.1414124],\n",
       "       [1.1465312],\n",
       "       [1.1508441],\n",
       "       [1.154283 ],\n",
       "       [1.1567246],\n",
       "       [1.1583107],\n",
       "       [1.1594774],\n",
       "       [1.1606246],\n",
       "       [1.1622124],\n",
       "       [1.164667 ],\n",
       "       [1.1679914],\n",
       "       [1.1718596],\n",
       "       [1.1758446],\n",
       "       [1.1795478],\n",
       "       [1.182862 ],\n",
       "       [1.1857808],\n",
       "       [1.1883519],\n",
       "       [1.190573 ],\n",
       "       [1.1924661],\n",
       "       [1.1940368],\n",
       "       [1.1951625],\n",
       "       [1.195819 ],\n",
       "       [1.1960335],\n",
       "       [1.1958947],\n",
       "       [1.1955268],\n",
       "       [1.1950647],\n",
       "       [1.1947794],\n",
       "       [1.1949532],\n",
       "       [1.1958641],\n",
       "       [1.1976576],\n",
       "       [1.2002273],\n",
       "       [1.203365 ],\n",
       "       [1.2070354],\n",
       "       [1.2113053],\n",
       "       [1.2161877],\n",
       "       [1.2215692],\n",
       "       [1.2272624],\n",
       "       [1.2330567],\n",
       "       [1.2388183],\n",
       "       [1.2445652],\n",
       "       [1.2503504],\n",
       "       [1.2560666],\n",
       "       [1.2615137],\n",
       "       [1.2664553],\n",
       "       [1.2706542],\n",
       "       [1.2739271],\n",
       "       [1.2762033],\n",
       "       [1.2775947],\n",
       "       [1.2783124],\n",
       "       [1.278595 ],\n",
       "       [1.2787026],\n",
       "       [1.2788045],\n",
       "       [1.2789885],\n",
       "       [1.2792581],\n",
       "       [1.2796075],\n",
       "       [1.2800306],\n",
       "       [1.2805753],\n",
       "       [1.2812954],\n",
       "       [1.2822485],\n",
       "       [1.2834998],\n",
       "       [1.2850771],\n",
       "       [1.2870154],\n",
       "       [1.2893741],\n",
       "       [1.2921276],\n",
       "       [1.2952291],\n",
       "       [1.298632 ],\n",
       "       [1.3023185],\n",
       "       [1.3058938],\n",
       "       [1.3088897],\n",
       "       [1.3109214],\n",
       "       [1.3118255],\n",
       "       [1.3115989],\n",
       "       [1.3102738],\n",
       "       [1.3079101],\n",
       "       [1.3045956],\n",
       "       [1.3004667],\n",
       "       [1.2955319],\n",
       "       [1.28975  ],\n",
       "       [1.2833587],\n",
       "       [1.2767535],\n",
       "       [1.270243 ],\n",
       "       [1.263943 ],\n",
       "       [1.2579708],\n",
       "       [1.2524304],\n",
       "       [1.2473373],\n",
       "       [1.2426387],\n",
       "       [1.2382787],\n",
       "       [1.2341055],\n",
       "       [1.229993 ],\n",
       "       [1.2257735],\n",
       "       [1.2208594],\n",
       "       [1.2148201],\n",
       "       [1.2073326],\n",
       "       [1.1982797],\n",
       "       [1.1879346],\n",
       "       [1.1768903],\n",
       "       [1.1658152],\n",
       "       [1.1553245],\n",
       "       [1.1460265],\n",
       "       [1.1383542],\n",
       "       [1.1326166],\n",
       "       [1.1290429],\n",
       "       [1.1276668],\n",
       "       [1.1284206],\n",
       "       [1.1311799],\n",
       "       [1.135644 ],\n",
       "       [1.1411791],\n",
       "       [1.1470667],\n",
       "       [1.1526546],\n",
       "       [1.1574901],\n",
       "       [1.1614397],\n",
       "       [1.1646374],\n",
       "       [1.167375 ],\n",
       "       [1.1700126],\n",
       "       [1.1727186],\n",
       "       [1.1756066],\n",
       "       [1.1788224],\n",
       "       [1.1824659],\n",
       "       [1.1865526],\n",
       "       [1.1910528],\n",
       "       [1.1958953],\n",
       "       [1.2009172],\n",
       "       [1.2059292],\n",
       "       [1.210649 ],\n",
       "       [1.2148765],\n",
       "       [1.218535 ],\n",
       "       [1.2215602],\n",
       "       [1.2238854],\n",
       "       [1.2262082],\n",
       "       [1.229155 ],\n",
       "       [1.2330376],\n",
       "       [1.2378737],\n",
       "       [1.2434578],\n",
       "       [1.2494215],\n",
       "       [1.2551897],\n",
       "       [1.2603422],\n",
       "       [1.2646254],\n",
       "       [1.2680693],\n",
       "       [1.2707276],\n",
       "       [1.272615 ]], dtype=float32)"
      ]
     },
     "execution_count": 32,
     "metadata": {},
     "output_type": "execute_result"
    }
   ],
   "source": [
    "y_pred = model.predict(X_test)\n",
    "y_pred"
   ]
  },
  {
   "cell_type": "code",
   "execution_count": 33,
   "metadata": {},
   "outputs": [],
   "source": [
    "predicted_price = sc.inverse_transform(y_pred)"
   ]
  },
  {
   "cell_type": "code",
   "execution_count": 34,
   "metadata": {},
   "outputs": [
    {
     "data": {
      "image/png": "[encoded data removed]",
      "text/plain": [
       "<Figure size 640x480 with 1 Axes>"
      ]
     },
     "metadata": {},
     "output_type": "display_data"
    }
   ],
   "source": [
    "plt.plot(y_test, color = 'red', label = 'Actual Stock Price')\n",
    "plt.plot(predicted_price, color = 'green', label = 'Predicted Stock Price')\n",
    "plt.title('Google stock price prediction')\n",
    "plt.xlabel('Time')\n",
    "plt.ylabel('Stock Price')\n",
    "plt.legend()\n",
    "plt.show()"
   ]
  }
 ],
 "metadata": {
  "kernelspec": {
   "display_name": "Python 3",
   "language": "python",
   "name": "python3"
  },
  "language_info": {
   "codemirror_mode": {
    "name": "ipython",
    "version": 3
   },
   "file_extension": ".py",
   "mimetype": "text/x-python",
   "name": "python",
   "nbconvert_exporter": "python",
   "pygments_lexer": "ipython3",
   "version": "3.11.2"
  }
 },
 "nbformat": 4,
 "nbformat_minor": 4
}
